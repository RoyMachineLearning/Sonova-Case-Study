{
  "nbformat": 4,
  "nbformat_minor": 0,
  "metadata": {
    "colab": {
      "name": "Sonova Case Study - Modelling using Sklearn Models",
      "provenance": [],
      "collapsed_sections": [],
      "toc_visible": true
    },
    "kernelspec": {
      "name": "python3",
      "display_name": "Python 3"
    },
    "language_info": {
      "name": "python"
    }
  },
  "cells": [
    {
      "cell_type": "markdown",
      "metadata": {
        "id": "ZBzBMmfb7VRP"
      },
      "source": [
        "## **Import Libraries**"
      ]
    },
    {
      "cell_type": "code",
      "metadata": {
        "id": "zNzAGetS1tQn"
      },
      "source": [
        "# Import the necessary libraries\n",
        "import numpy as np\n",
        "import pandas as pd\n",
        "import os\n",
        "import time\n",
        "import warnings\n",
        "import os\n",
        "from six.moves import urllib\n",
        "import matplotlib\n",
        "import matplotlib.pyplot as plt\n",
        "warnings.filterwarnings('ignore')"
      ],
      "execution_count": 172,
      "outputs": []
    },
    {
      "cell_type": "code",
      "metadata": {
        "id": "zboLdjnl2cCb"
      },
      "source": [
        "#Add All the Models Libraries\n",
        "from sklearn.ensemble import RandomForestClassifier\n",
        "from sklearn.ensemble import AdaBoostClassifier\n",
        "from sklearn.ensemble import ExtraTreesClassifier\n",
        "from sklearn.linear_model import LogisticRegression\n",
        "from sklearn.model_selection import RandomizedSearchCV\n",
        "\n",
        "\n",
        "# Plotly\n",
        "import plotly.express as px\n",
        "\n",
        "# Models\n",
        "\n",
        "from sklearn.model_selection import train_test_split #training and testing data split\n",
        "from sklearn import metrics #accuracy measure\n",
        "from sklearn.metrics import confusion_matrix #for confusion matrix\n",
        "from scipy.stats import reciprocal, uniform\n",
        "\n",
        "\n",
        "# Cross-validation\n",
        "from sklearn.model_selection import KFold #for K-fold cross validation\n",
        "from sklearn.model_selection import cross_val_score #score evaluation\n",
        "from sklearn.model_selection import cross_val_predict #prediction\n",
        "from sklearn.model_selection import cross_validate\n",
        "\n",
        "\n",
        "#Common data processors\n",
        "from sklearn.preprocessing import OneHotEncoder, LabelEncoder\n",
        "from sklearn import feature_selection\n",
        "from sklearn import model_selection\n",
        "from sklearn import metrics\n",
        "from sklearn.base import BaseEstimator, TransformerMixin\n",
        "from sklearn.utils import check_array\n",
        "from scipy import sparse\n",
        "\n",
        "#Accuracy Score\n",
        "from sklearn.metrics import accuracy_score\n",
        "\n",
        "from tqdm import tqdm_notebook as tqdm"
      ],
      "execution_count": 173,
      "outputs": []
    },
    {
      "cell_type": "code",
      "metadata": {
        "id": "e4nduzsE2oEj"
      },
      "source": [
        "# to make this notebook's output stable across runs\n",
        "np.random.seed(123)\n",
        "\n",
        "# To plot pretty figures\n",
        "%matplotlib inline\n",
        "plt.rcParams['axes.labelsize'] = 14\n",
        "plt.rcParams['xtick.labelsize'] = 12\n",
        "plt.rcParams['ytick.labelsize'] = 12"
      ],
      "execution_count": 174,
      "outputs": []
    },
    {
      "cell_type": "code",
      "metadata": {
        "colab": {
          "base_uri": "https://localhost:8080/"
        },
        "id": "eZJDQQXg508q",
        "outputId": "f8acac88-acd6-4147-838e-0f5fb470b545"
      },
      "source": [
        "from google.colab import drive\n",
        "drive.mount('/content/drive')"
      ],
      "execution_count": 175,
      "outputs": [
        {
          "output_type": "stream",
          "text": [
            "Drive already mounted at /content/drive; to attempt to forcibly remount, call drive.mount(\"/content/drive\", force_remount=True).\n"
          ],
          "name": "stdout"
        }
      ]
    },
    {
      "cell_type": "code",
      "metadata": {
        "id": "IVEswcg82rjq"
      },
      "source": [
        "def reduce_mem_usage(df, verbose=True):\n",
        "    numerics = ['int16', 'int32', 'int64', 'float16', 'float32', 'float64']\n",
        "    start_mem = df.memory_usage().sum() / 1024**2    \n",
        "    for col in df.columns:\n",
        "        col_type = df[col].dtypes\n",
        "        if col_type in numerics:\n",
        "            c_min = df[col].min()\n",
        "            c_max = df[col].max()\n",
        "            if str(col_type)[:3] == 'int':\n",
        "                if c_min > np.iinfo(np.int8).min and c_max < np.iinfo(np.int8).max:\n",
        "                    df[col] = df[col].astype(np.int8)\n",
        "                elif c_min > np.iinfo(np.int16).min and c_max < np.iinfo(np.int16).max:\n",
        "                    df[col] = df[col].astype(np.int16)\n",
        "                elif c_min > np.iinfo(np.int32).min and c_max < np.iinfo(np.int32).max:\n",
        "                    df[col] = df[col].astype(np.int32)\n",
        "                elif c_min > np.iinfo(np.int64).min and c_max < np.iinfo(np.int64).max:\n",
        "                    df[col] = df[col].astype(np.int64)  \n",
        "            else:\n",
        "                if c_min > np.finfo(np.float16).min and c_max < np.finfo(np.float16).max:\n",
        "                    df[col] = df[col].astype(np.float16)\n",
        "                elif c_min > np.finfo(np.float32).min and c_max < np.finfo(np.float32).max:\n",
        "                    df[col] = df[col].astype(np.float32)\n",
        "                else:\n",
        "                    df[col] = df[col].astype(np.float64)    \n",
        "    end_mem = df.memory_usage().sum() / 1024**2\n",
        "    if verbose: print('Mem. usage decreased to {:5.2f} Mb ({:.1f}% reduction)'.format(end_mem, 100 * (start_mem - end_mem) / start_mem))\n",
        "    return df"
      ],
      "execution_count": 176,
      "outputs": []
    },
    {
      "cell_type": "markdown",
      "metadata": {
        "id": "uCzxTufK7d9z"
      },
      "source": [
        "## **Load Datasets**"
      ]
    },
    {
      "cell_type": "code",
      "metadata": {
        "colab": {
          "base_uri": "https://localhost:8080/"
        },
        "id": "f0y1TOE_2xCa",
        "outputId": "f4fbbee3-bd2f-4fd1-c69b-13bd9168310e"
      },
      "source": [
        "X_train = reduce_mem_usage(pd.read_parquet(\"/content/drive/MyDrive/Sonova/Train.parquet\")) #read the data from the csv file.\n",
        "X_test = reduce_mem_usage(pd.read_parquet(\"/content/drive/MyDrive/Sonova/Test.parquet\"))\n",
        "\n",
        "y_train = pd.read_csv(\"/content/drive/MyDrive/Sonova/y_Train.csv\")\n",
        "y_test =  pd.read_csv(\"/content/drive/MyDrive/Sonova/y_Test.csv\")"
      ],
      "execution_count": 177,
      "outputs": [
        {
          "output_type": "stream",
          "text": [
            "Mem. usage decreased to 105.77 Mb (75.0% reduction)\n",
            "Mem. usage decreased to 26.44 Mb (75.0% reduction)\n"
          ],
          "name": "stdout"
        }
      ]
    },
    {
      "cell_type": "code",
      "metadata": {
        "colab": {
          "base_uri": "https://localhost:8080/"
        },
        "id": "9-w0_qGz5k21",
        "outputId": "ca8d8497-1684-4db1-bd27-6c8ef5713631"
      },
      "source": [
        "print(X_train.shape)\n",
        "print(X_test.shape)\n",
        "print(y_train.shape)\n",
        "print(y_test.shape)"
      ],
      "execution_count": 178,
      "outputs": [
        {
          "output_type": "stream",
          "text": [
            "(490737, 113)\n",
            "(122685, 113)\n",
            "(490737, 1)\n",
            "(122685, 1)\n"
          ],
          "name": "stdout"
        }
      ]
    },
    {
      "cell_type": "markdown",
      "metadata": {
        "id": "hd2VgaCPLXAi"
      },
      "source": [
        "## **Model 1 : Random Forest Classifer**"
      ]
    },
    {
      "cell_type": "code",
      "metadata": {
        "colab": {
          "base_uri": "https://localhost:8080/"
        },
        "id": "WPVPYQOo8dFd",
        "outputId": "7aa91cd2-ff4d-4883-abd7-b6579ae4ab93"
      },
      "source": [
        "#Design the random forest classifier\n",
        "\n",
        "# Random Forest Classifier\n",
        "\n",
        "n_estimators = [10, 200]\n",
        "max_features = [0.1, 0.5]\n",
        "max_depth = [2, 10, 20] \n",
        "oob_score = [True, False]\n",
        "min_samples_split = [0.1, 0.5]\n",
        "min_samples_leaf = [0.1, 0.5]\n",
        "max_leaf_nodes = [2, 10, 100]\n",
        "\n",
        "parameter_random_forest = {'n_estimators' : n_estimators, 'max_features' : max_features,\n",
        "                     'max_depth' : max_depth, 'min_samples_split' : min_samples_split,\n",
        "                    'oob_score' : oob_score, 'min_samples_leaf': min_samples_leaf, \n",
        "                     'max_leaf_nodes' : max_leaf_nodes}\n",
        "             \n",
        "Random_Forest_Classifier = RandomForestClassifier(random_state = 42)\n",
        "\n",
        "#use grid search to tune the model\n",
        "\n",
        "Rand_Srch_RanForest = RandomizedSearchCV(Random_Forest_Classifier,parameter_random_forest, cv = 4, n_iter = 10, scoring='roc_auc', refit = True,\n",
        "                                     n_jobs = -1, verbose=2)\n",
        "\n",
        "Rand_Srch_RanForest.fit(X_train,y_train)"
      ],
      "execution_count": 179,
      "outputs": [
        {
          "output_type": "stream",
          "text": [
            "Fitting 4 folds for each of 10 candidates, totalling 40 fits\n"
          ],
          "name": "stdout"
        },
        {
          "output_type": "stream",
          "text": [
            "[Parallel(n_jobs=-1)]: Using backend LokyBackend with 2 concurrent workers.\n",
            "[Parallel(n_jobs=-1)]: Done  37 tasks      | elapsed: 11.4min\n",
            "[Parallel(n_jobs=-1)]: Done  40 out of  40 | elapsed: 12.1min finished\n"
          ],
          "name": "stderr"
        },
        {
          "output_type": "execute_result",
          "data": {
            "text/plain": [
              "RandomizedSearchCV(cv=4, error_score=nan,\n",
              "                   estimator=RandomForestClassifier(bootstrap=True,\n",
              "                                                    ccp_alpha=0.0,\n",
              "                                                    class_weight=None,\n",
              "                                                    criterion='gini',\n",
              "                                                    max_depth=None,\n",
              "                                                    max_features='auto',\n",
              "                                                    max_leaf_nodes=None,\n",
              "                                                    max_samples=None,\n",
              "                                                    min_impurity_decrease=0.0,\n",
              "                                                    min_impurity_split=None,\n",
              "                                                    min_samples_leaf=1,\n",
              "                                                    min_samples_split=2,\n",
              "                                                    min_weight_fraction_leaf=0.0,\n",
              "                                                    n_estimators=100,\n",
              "                                                    n_jobs...\n",
              "                                                    warm_start=False),\n",
              "                   iid='deprecated', n_iter=10, n_jobs=-1,\n",
              "                   param_distributions={'max_depth': [2, 10, 20],\n",
              "                                        'max_features': [0.1, 0.5],\n",
              "                                        'max_leaf_nodes': [2, 10, 100],\n",
              "                                        'min_samples_leaf': [0.1, 0.5],\n",
              "                                        'min_samples_split': [0.1, 0.5],\n",
              "                                        'n_estimators': [10, 200],\n",
              "                                        'oob_score': [True, False]},\n",
              "                   pre_dispatch='2*n_jobs', random_state=None, refit=True,\n",
              "                   return_train_score=False, scoring='roc_auc', verbose=2)"
            ]
          },
          "metadata": {},
          "execution_count": 179
        }
      ]
    },
    {
      "cell_type": "markdown",
      "metadata": {
        "id": "iMwrAzA_WYOw"
      },
      "source": [
        "### **Best Parameters : Random Forest Classifer**"
      ]
    },
    {
      "cell_type": "code",
      "metadata": {
        "colab": {
          "base_uri": "https://localhost:8080/"
        },
        "id": "zQqGbdBhLqNd",
        "outputId": "2431e943-3aa8-4de8-e3f0-0c573e82454d"
      },
      "source": [
        "forest_best_params_ = Rand_Srch_RanForest.best_params_\n",
        "forest_best_estimators_ = Rand_Srch_RanForest.best_estimator_\n",
        "\n",
        "print(forest_best_params_)\n",
        "print(forest_best_estimators_)"
      ],
      "execution_count": 180,
      "outputs": [
        {
          "output_type": "stream",
          "text": [
            "{'oob_score': True, 'n_estimators': 200, 'min_samples_split': 0.1, 'min_samples_leaf': 0.1, 'max_leaf_nodes': 10, 'max_features': 0.1, 'max_depth': 10}\n",
            "RandomForestClassifier(bootstrap=True, ccp_alpha=0.0, class_weight=None,\n",
            "                       criterion='gini', max_depth=10, max_features=0.1,\n",
            "                       max_leaf_nodes=10, max_samples=None,\n",
            "                       min_impurity_decrease=0.0, min_impurity_split=None,\n",
            "                       min_samples_leaf=0.1, min_samples_split=0.1,\n",
            "                       min_weight_fraction_leaf=0.0, n_estimators=200,\n",
            "                       n_jobs=None, oob_score=True, random_state=42, verbose=0,\n",
            "                       warm_start=False)\n"
          ],
          "name": "stdout"
        }
      ]
    },
    {
      "cell_type": "markdown",
      "metadata": {
        "id": "aE7wpNwLVsXL"
      },
      "source": [
        "## **Model 2 : ADA Boost Classifer**"
      ]
    },
    {
      "cell_type": "code",
      "metadata": {
        "colab": {
          "base_uri": "https://localhost:8080/"
        },
        "id": "S_xbdNl2Vvpq",
        "outputId": "8253ef11-5a62-4ae7-81bc-6ff149362238"
      },
      "source": [
        "# Now Build the ADA Boost Classifier\n",
        "\n",
        "n_estimators = [10, 200]\n",
        "learning_rate = [0.05, 0.01]\n",
        "algorithm = ['SAMME', 'SAMME.R']\n",
        "\n",
        "Ada_Classifer = AdaBoostClassifier(random_state = 42)\n",
        "parameter_Ada_Classifer = {'n_estimators' : n_estimators, 'learning_rate' : learning_rate, 'algorithm' : algorithm}\n",
        "grid_search_AdaClassifier = RandomizedSearchCV(Ada_Classifer, parameter_Ada_Classifer, cv = 4, scoring='roc_auc', n_iter = 10, refit = True, n_jobs = -1, verbose = 2)\n",
        "grid_search_AdaClassifier.fit(X_train,y_train)"
      ],
      "execution_count": 181,
      "outputs": [
        {
          "output_type": "stream",
          "text": [
            "Fitting 4 folds for each of 8 candidates, totalling 32 fits\n"
          ],
          "name": "stdout"
        },
        {
          "output_type": "stream",
          "text": [
            "[Parallel(n_jobs=-1)]: Using backend LokyBackend with 2 concurrent workers.\n",
            "[Parallel(n_jobs=-1)]: Done  32 out of  32 | elapsed: 77.0min finished\n"
          ],
          "name": "stderr"
        },
        {
          "output_type": "execute_result",
          "data": {
            "text/plain": [
              "RandomizedSearchCV(cv=4, error_score=nan,\n",
              "                   estimator=AdaBoostClassifier(algorithm='SAMME.R',\n",
              "                                                base_estimator=None,\n",
              "                                                learning_rate=1.0,\n",
              "                                                n_estimators=50,\n",
              "                                                random_state=42),\n",
              "                   iid='deprecated', n_iter=10, n_jobs=-1,\n",
              "                   param_distributions={'algorithm': ['SAMME', 'SAMME.R'],\n",
              "                                        'learning_rate': [0.05, 0.01],\n",
              "                                        'n_estimators': [10, 200]},\n",
              "                   pre_dispatch='2*n_jobs', random_state=None, refit=True,\n",
              "                   return_train_score=False, scoring='roc_auc', verbose=2)"
            ]
          },
          "metadata": {},
          "execution_count": 181
        }
      ]
    },
    {
      "cell_type": "markdown",
      "metadata": {
        "id": "E9OIJiPgt5BE"
      },
      "source": [
        "### **Best Parameters : ADA Boost Classifier**"
      ]
    },
    {
      "cell_type": "code",
      "metadata": {
        "colab": {
          "base_uri": "https://localhost:8080/"
        },
        "id": "I4pg7p2lt-uH",
        "outputId": "5808270c-f65b-468d-dd3e-3c7c666cd212"
      },
      "source": [
        "AdaClassifier_best_params_ = grid_search_AdaClassifier.best_params_\n",
        "AdaClassifier_best_estimators_ = grid_search_AdaClassifier.best_estimator_\n",
        "print(AdaClassifier_best_params_)\n",
        "print(AdaClassifier_best_estimators_)"
      ],
      "execution_count": 182,
      "outputs": [
        {
          "output_type": "stream",
          "text": [
            "{'n_estimators': 200, 'learning_rate': 0.05, 'algorithm': 'SAMME.R'}\n",
            "AdaBoostClassifier(algorithm='SAMME.R', base_estimator=None, learning_rate=0.05,\n",
            "                   n_estimators=200, random_state=42)\n"
          ],
          "name": "stdout"
        }
      ]
    },
    {
      "cell_type": "markdown",
      "metadata": {
        "id": "MKRDnhRmWtJI"
      },
      "source": [
        "## **Model 3 : Extra Trees Classifier**"
      ]
    },
    {
      "cell_type": "code",
      "metadata": {
        "colab": {
          "base_uri": "https://localhost:8080/"
        },
        "id": "yjo85iP-WPt8",
        "outputId": "44f4f521-2f5b-4d02-9df9-e9900a99a53d"
      },
      "source": [
        "# The next we build is an Extra Trees Classifier\n",
        "\n",
        "Extra_Classifier = ExtraTreesClassifier(random_state = 42)\n",
        "\n",
        "n_estimators = [10, 200]\n",
        "max_features = [0.1, 0.5]\n",
        "max_depth = [2, 10, 20] \n",
        "min_samples_split = [0.1, 0.5]\n",
        "min_samples_leaf = [0.1, 0.5]\n",
        "\n",
        "parameter_Extra_Classifier = {'n_estimators' : n_estimators, 'max_features' : max_features,\n",
        "                         'max_depth' : max_depth, 'min_samples_split' : min_samples_split,\n",
        "                         'min_samples_leaf' : min_samples_leaf}\n",
        "\n",
        "grid_search_ExtraClassifier = RandomizedSearchCV(Extra_Classifier, parameter_Extra_Classifier, cv = 4, n_iter=10, scoring='roc_auc', \n",
        "                               refit = True, n_jobs = -1, verbose = 2)\n",
        "grid_search_ExtraClassifier.fit(X_train,y_train)"
      ],
      "execution_count": 183,
      "outputs": [
        {
          "output_type": "stream",
          "text": [
            "Fitting 4 folds for each of 10 candidates, totalling 40 fits\n"
          ],
          "name": "stdout"
        },
        {
          "output_type": "stream",
          "text": [
            "[Parallel(n_jobs=-1)]: Using backend LokyBackend with 2 concurrent workers.\n",
            "[Parallel(n_jobs=-1)]: Done  37 tasks      | elapsed:  7.7min\n",
            "[Parallel(n_jobs=-1)]: Done  40 out of  40 | elapsed:  7.8min finished\n"
          ],
          "name": "stderr"
        },
        {
          "output_type": "execute_result",
          "data": {
            "text/plain": [
              "RandomizedSearchCV(cv=4, error_score=nan,\n",
              "                   estimator=ExtraTreesClassifier(bootstrap=False,\n",
              "                                                  ccp_alpha=0.0,\n",
              "                                                  class_weight=None,\n",
              "                                                  criterion='gini',\n",
              "                                                  max_depth=None,\n",
              "                                                  max_features='auto',\n",
              "                                                  max_leaf_nodes=None,\n",
              "                                                  max_samples=None,\n",
              "                                                  min_impurity_decrease=0.0,\n",
              "                                                  min_impurity_split=None,\n",
              "                                                  min_samples_leaf=1,\n",
              "                                                  min_samples_split=2,\n",
              "                                                  min_weight_fraction_leaf=0.0,\n",
              "                                                  n_estimators=100, n_jobs=...\n",
              "                                                  oob_score=False,\n",
              "                                                  random_state=42, verbose=0,\n",
              "                                                  warm_start=False),\n",
              "                   iid='deprecated', n_iter=10, n_jobs=-1,\n",
              "                   param_distributions={'max_depth': [2, 10, 20],\n",
              "                                        'max_features': [0.1, 0.5],\n",
              "                                        'min_samples_leaf': [0.1, 0.5],\n",
              "                                        'min_samples_split': [0.1, 0.5],\n",
              "                                        'n_estimators': [10, 200]},\n",
              "                   pre_dispatch='2*n_jobs', random_state=None, refit=True,\n",
              "                   return_train_score=False, scoring='roc_auc', verbose=2)"
            ]
          },
          "metadata": {},
          "execution_count": 183
        }
      ]
    },
    {
      "cell_type": "markdown",
      "metadata": {
        "id": "XDNwDmQnuGED"
      },
      "source": [
        "### **Best Parameters : Extra Trees Classifier**"
      ]
    },
    {
      "cell_type": "code",
      "metadata": {
        "colab": {
          "base_uri": "https://localhost:8080/"
        },
        "id": "KaSx0BOBXjFc",
        "outputId": "c6dfcf44-4494-4ac0-fb64-012709d07a3f"
      },
      "source": [
        "Extra_Classifier_best_params_ = grid_search_ExtraClassifier.best_params_\n",
        "Extra_Classifier_best_estimators_ = grid_search_ExtraClassifier.best_estimator_\n",
        "print(Extra_Classifier_best_params_)\n",
        "print(Extra_Classifier_best_estimators_)"
      ],
      "execution_count": 184,
      "outputs": [
        {
          "output_type": "stream",
          "text": [
            "{'n_estimators': 200, 'min_samples_split': 0.5, 'min_samples_leaf': 0.1, 'max_features': 0.5, 'max_depth': 20}\n",
            "ExtraTreesClassifier(bootstrap=False, ccp_alpha=0.0, class_weight=None,\n",
            "                     criterion='gini', max_depth=20, max_features=0.5,\n",
            "                     max_leaf_nodes=None, max_samples=None,\n",
            "                     min_impurity_decrease=0.0, min_impurity_split=None,\n",
            "                     min_samples_leaf=0.1, min_samples_split=0.5,\n",
            "                     min_weight_fraction_leaf=0.0, n_estimators=200,\n",
            "                     n_jobs=None, oob_score=False, random_state=42, verbose=0,\n",
            "                     warm_start=False)\n"
          ],
          "name": "stdout"
        }
      ]
    },
    {
      "cell_type": "markdown",
      "metadata": {
        "id": "pALbLKcMHGwv"
      },
      "source": [
        "## **Model 4 : Logistic Regression**"
      ]
    },
    {
      "cell_type": "code",
      "metadata": {
        "colab": {
          "base_uri": "https://localhost:8080/"
        },
        "id": "7OUIV1OGHHA-",
        "outputId": "a601571e-1676-4d38-a9a6-4991e29fe1f2"
      },
      "source": [
        "Logistic_Regression = LogisticRegression(random_state = 42)\n",
        "C = [0.0001, 0.001, 0.01, 0.1, 0.2, 0.3]\n",
        "                            \n",
        "parameter_LogReg = {'C' : C}\n",
        "grid_search_LogReg = RandomizedSearchCV(Logistic_Regression, parameter_LogReg, cv = 4, scoring='roc_auc', \n",
        "                               refit = True, n_jobs = -1, verbose = 2, n_iter=10)\n",
        "\n",
        "grid_search_LogReg.fit(X_train,y_train)"
      ],
      "execution_count": 185,
      "outputs": [
        {
          "output_type": "stream",
          "text": [
            "Fitting 4 folds for each of 6 candidates, totalling 24 fits\n"
          ],
          "name": "stdout"
        },
        {
          "output_type": "stream",
          "text": [
            "[Parallel(n_jobs=-1)]: Using backend LokyBackend with 2 concurrent workers.\n",
            "[Parallel(n_jobs=-1)]: Done  24 out of  24 | elapsed:  3.7min finished\n"
          ],
          "name": "stderr"
        },
        {
          "output_type": "execute_result",
          "data": {
            "text/plain": [
              "RandomizedSearchCV(cv=4, error_score=nan,\n",
              "                   estimator=LogisticRegression(C=1.0, class_weight=None,\n",
              "                                                dual=False, fit_intercept=True,\n",
              "                                                intercept_scaling=1,\n",
              "                                                l1_ratio=None, max_iter=100,\n",
              "                                                multi_class='auto', n_jobs=None,\n",
              "                                                penalty='l2', random_state=42,\n",
              "                                                solver='lbfgs', tol=0.0001,\n",
              "                                                verbose=0, warm_start=False),\n",
              "                   iid='deprecated', n_iter=10, n_jobs=-1,\n",
              "                   param_distributions={'C': [0.0001, 0.001, 0.01, 0.1, 0.2,\n",
              "                                              0.3]},\n",
              "                   pre_dispatch='2*n_jobs', random_state=None, refit=True,\n",
              "                   return_train_score=False, scoring='roc_auc', verbose=2)"
            ]
          },
          "metadata": {},
          "execution_count": 185
        }
      ]
    },
    {
      "cell_type": "markdown",
      "metadata": {
        "id": "WwTtsHm4IeM3"
      },
      "source": [
        "### **Best Parameters : Logistic Regression Classifier**"
      ]
    },
    {
      "cell_type": "code",
      "metadata": {
        "colab": {
          "base_uri": "https://localhost:8080/"
        },
        "id": "SDg1E7sHIkND",
        "outputId": "2f1b519a-a1f8-4154-eecc-478e240656ba"
      },
      "source": [
        "Logistic_best_params_ = grid_search_LogReg.best_params_\n",
        "Logistic_best_estimators_ = grid_search_LogReg.best_estimator_\n",
        "print(Logistic_best_params_)\n",
        "print(Extra_Classifier_best_estimators_)"
      ],
      "execution_count": 186,
      "outputs": [
        {
          "output_type": "stream",
          "text": [
            "{'C': 0.3}\n",
            "ExtraTreesClassifier(bootstrap=False, ccp_alpha=0.0, class_weight=None,\n",
            "                     criterion='gini', max_depth=20, max_features=0.5,\n",
            "                     max_leaf_nodes=None, max_samples=None,\n",
            "                     min_impurity_decrease=0.0, min_impurity_split=None,\n",
            "                     min_samples_leaf=0.1, min_samples_split=0.5,\n",
            "                     min_weight_fraction_leaf=0.0, n_estimators=200,\n",
            "                     n_jobs=None, oob_score=False, random_state=42, verbose=0,\n",
            "                     warm_start=False)\n"
          ],
          "name": "stdout"
        }
      ]
    },
    {
      "cell_type": "markdown",
      "metadata": {
        "id": "QoeRcj37wNB4"
      },
      "source": [
        "## **Model Interpretations and Evaluation : Random Forest**"
      ]
    },
    {
      "cell_type": "markdown",
      "metadata": {
        "id": "My44w8t2wT_0"
      },
      "source": [
        "### **ROC AUC : Random Forest Evaluation (on Method = Predict Proba)**"
      ]
    },
    {
      "cell_type": "code",
      "metadata": {
        "colab": {
          "base_uri": "https://localhost:8080/"
        },
        "id": "j-7bbsIpud2a",
        "outputId": "610063cd-5069-42a0-fe8d-373ce2751c52"
      },
      "source": [
        "#Random Forest AUC score on Training Set\n",
        "from sklearn.metrics import roc_auc_score\n",
        "y_RF_Prediction = forest_best_estimators_.predict_proba(X_train)\n",
        "y_RF_Scores = y_RF_Prediction[:, 1] # score = proba of positive class\n",
        "print(roc_auc_score(y_train, y_RF_Scores))"
      ],
      "execution_count": 187,
      "outputs": [
        {
          "output_type": "stream",
          "text": [
            "0.7588039859331145\n"
          ],
          "name": "stdout"
        }
      ]
    },
    {
      "cell_type": "code",
      "metadata": {
        "colab": {
          "base_uri": "https://localhost:8080/"
        },
        "id": "i1zGQ30Mv5Br",
        "outputId": "220d3954-a9c4-46d5-e987-43c1587ec73b"
      },
      "source": [
        "#Random Forest AUC score on Test Set\n",
        "y_RF_TPrediction = forest_best_estimators_.predict_proba(X_test)\n",
        "y_RF_TScores = y_RF_TPrediction[:, 1] # score = proba of positive class\n",
        "print(roc_auc_score(y_test,y_RF_TScores))"
      ],
      "execution_count": 188,
      "outputs": [
        {
          "output_type": "stream",
          "text": [
            "0.7590762182861959\n"
          ],
          "name": "stdout"
        }
      ]
    },
    {
      "cell_type": "markdown",
      "metadata": {
        "id": "jvvaKxCU2EfV"
      },
      "source": [
        "### **Confusion Matrix : Random Forest**"
      ]
    },
    {
      "cell_type": "code",
      "metadata": {
        "colab": {
          "base_uri": "https://localhost:8080/"
        },
        "id": "2G447oLs15b6",
        "outputId": "b00aaa36-5b18-49b0-9fb1-b0c4583a8cc1"
      },
      "source": [
        "#Create the confusion Matrix on the training set for Random Forest Classifier\n",
        "from sklearn.metrics import confusion_matrix\n",
        "predict_RClassifier = cross_val_predict(forest_best_estimators_,X_train,y_train, cv=4)\n",
        "confusion_matrix(y_train, predict_RClassifier)"
      ],
      "execution_count": 189,
      "outputs": [
        {
          "output_type": "execute_result",
          "data": {
            "text/plain": [
              "array([[211757,  47676],\n",
              "       [ 82850, 148454]])"
            ]
          },
          "metadata": {},
          "execution_count": 189
        }
      ]
    },
    {
      "cell_type": "code",
      "metadata": {
        "colab": {
          "base_uri": "https://localhost:8080/"
        },
        "id": "HBcN4hbX2OWu",
        "outputId": "354d9736-6c41-405a-e383-ac29a43fc284"
      },
      "source": [
        "#Create the confusion Matrix on the test set for Random Forest Classifier\n",
        "predict_TRClassifier = cross_val_predict(forest_best_estimators_,X_test,y_test, cv=4)\n",
        "confusion_matrix(y_test, predict_TRClassifier)"
      ],
      "execution_count": 190,
      "outputs": [
        {
          "output_type": "execute_result",
          "data": {
            "text/plain": [
              "array([[53324, 11590],\n",
              "       [21054, 36717]])"
            ]
          },
          "metadata": {},
          "execution_count": 190
        }
      ]
    },
    {
      "cell_type": "markdown",
      "metadata": {
        "id": "-ajA199q6t7_"
      },
      "source": [
        "### **Precision and Recall Score : Random Forest**"
      ]
    },
    {
      "cell_type": "code",
      "metadata": {
        "colab": {
          "base_uri": "https://localhost:8080/"
        },
        "id": "JpfQb8sB6NzF",
        "outputId": "cf9d69c3-72b8-4857-bd60-e775c81ff202"
      },
      "source": [
        "from sklearn.metrics import precision_score, recall_score\n",
        "print(\"Precision Score for Training Set : {} \".format(precision_score(y_train,predict_RClassifier)))\n",
        "print(\"Recall Score for Training Set : {}\".format(recall_score(y_train,predict_RClassifier)))"
      ],
      "execution_count": 191,
      "outputs": [
        {
          "output_type": "stream",
          "text": [
            "Precision Score for Training Set : 0.7569163310049457 \n",
            "Recall Score for Training Set : 0.6418133711479266\n"
          ],
          "name": "stdout"
        }
      ]
    },
    {
      "cell_type": "code",
      "metadata": {
        "colab": {
          "base_uri": "https://localhost:8080/"
        },
        "id": "2lEm9lfV67Q3",
        "outputId": "fc9aa32a-8183-4944-c5ff-6c792a3f3cfb"
      },
      "source": [
        "from sklearn.metrics import precision_score, recall_score\n",
        "print(\"Precision Score for Test Set : {} \".format(precision_score(y_test,predict_TRClassifier)))\n",
        "print(\"Recall Score for Test Set : {}\".format(recall_score(y_test,predict_TRClassifier)))"
      ],
      "execution_count": 192,
      "outputs": [
        {
          "output_type": "stream",
          "text": [
            "Precision Score for Test Set : 0.7600761794356925 \n",
            "Recall Score for Test Set : 0.6355610946668744\n"
          ],
          "name": "stdout"
        }
      ]
    },
    {
      "cell_type": "markdown",
      "metadata": {
        "id": "lnHyDyT_Matp"
      },
      "source": [
        "### **Feature Importance : Random Forest**"
      ]
    },
    {
      "cell_type": "code",
      "metadata": {
        "id": "glMHNGrWM5Is"
      },
      "source": [
        "Total_Features = [col for col in X_train.columns]\n",
        "feature_importance_rf = pd.DataFrame()\n",
        "feature_importance_rf[\"feature\"] = Total_Features\n",
        "feature_importance_rf[\"importance\"] = forest_best_estimators_.feature_importances_\n",
        "feature_importance_rf.sort_values(by=['importance'],ascending=False, inplace=True)\n",
        "feature_importance_rf = feature_importance_rf[feature_importance_rf['importance']!=0]\n",
        "feature_importance_rf = feature_importance_rf.reset_index()\n",
        "feature_importance_rf.drop(['index'],axis=1,inplace=True)"
      ],
      "execution_count": 196,
      "outputs": []
    },
    {
      "cell_type": "code",
      "metadata": {
        "colab": {
          "base_uri": "https://localhost:8080/",
          "height": 1000
        },
        "id": "QHq2C8rjOynd",
        "outputId": "18474fcd-0ef9-4210-dce8-02ce98cd49ac"
      },
      "source": [
        "colors = ['Other Features'] * 63\n",
        "colors[62] = 'Most Important Feature'\n",
        "feature_importance_rf = feature_importance_rf.sort_values(by=['importance'])\n",
        "fig = px.bar(feature_importance_rf, x=\"importance\", y=\"feature\", orientation='h', width = 1000, height=1200,color=colors,title=\"Feature Importance - Random Forest\")\n",
        "fig.update_yaxes(dtick=1,tickformat='.0f')\n",
        "fig.update_traces(hovertemplate='Feature: %{y} <br> Importance: %{x}') #\n",
        "fig.update_layout(legend=dict(\n",
        "    yanchor=\"bottom\",\n",
        "    x=0.998,\n",
        "    xanchor=\"right\",\n",
        "    y=0.002\n",
        "))\n",
        "fig.show()"
      ],
      "execution_count": 256,
      "outputs": [
        {
          "output_type": "display_data",
          "data": {
            "text/html": [
              "<html>\n",
              "<head><meta charset=\"utf-8\" /></head>\n",
              "<body>\n",
              "    <div>\n",
              "            <script src=\"https://cdnjs.cloudflare.com/ajax/libs/mathjax/2.7.5/MathJax.js?config=TeX-AMS-MML_SVG\"></script><script type=\"text/javascript\">if (window.MathJax) {MathJax.Hub.Config({SVG: {font: \"STIX-Web\"}});}</script>\n",
              "                <script type=\"text/javascript\">window.PlotlyConfig = {MathJaxConfig: 'local'};</script>\n",
              "        <script src=\"https://cdn.plot.ly/plotly-latest.min.js\"></script>    \n",
              "            <div id=\"b45ed93c-4a42-4af2-8a30-ed135960063e\" class=\"plotly-graph-div\" style=\"height:1200px; width:1000px;\"></div>\n",
              "            <script type=\"text/javascript\">\n",
              "                \n",
              "                    window.PLOTLYENV=window.PLOTLYENV || {};\n",
              "                    \n",
              "                if (document.getElementById(\"b45ed93c-4a42-4af2-8a30-ed135960063e\")) {\n",
              "                    Plotly.newPlot(\n",
              "                        'b45ed93c-4a42-4af2-8a30-ed135960063e',\n",
              "                        [{\"alignmentgroup\": \"True\", \"hoverlabel\": {\"namelength\": 0}, \"hovertemplate\": \"Feature: %{y} <br> Importance: %{x}\", \"legendgroup\": \"color=Other Features\", \"marker\": {\"color\": \"#636efa\"}, \"name\": \"color=Other Features\", \"offsetgroup\": \"color=Other Features\", \"orientation\": \"h\", \"showlegend\": true, \"textposition\": \"auto\", \"type\": \"bar\", \"x\": [1.2663000332385287e-05, 4.272621455510817e-05, 7.458558176922991e-05, 7.515097223338571e-05, 8.535569526949173e-05, 8.97035610250473e-05, 0.00022636708600636986, 0.0003237507997682529, 0.0004202768226890927, 0.00047182784777989546, 0.0005571220237986587, 0.0006494055834369888, 0.0007169505268614418, 0.0008276543142975279, 0.001058947426128366, 0.0011037366444185616, 0.0011329723972979258, 0.0012933319827718877, 0.0014682595699703257, 0.0015094545691679744, 0.001870154216867395, 0.0018928348173709913, 0.001915090307377042, 0.001974450370154392, 0.0020315168938470525, 0.0021374423694205235, 0.0024354624413462232, 0.002804894845592189, 0.0028920137046407547, 0.0029196437735210367, 0.0029280575713175505, 0.0031276148467844983, 0.003567585938707415, 0.0036422461256235966, 0.004199591433520878, 0.004435064192477889, 0.004648840958144652, 0.00598277696563912, 0.006069288021529597, 0.009296805121586456, 0.009472826295488075, 0.009587797704593566, 0.010692973364331866, 0.012119525938979218, 0.013228105937442518, 0.013470340613518093, 0.014632627089857632, 0.016852924209442018, 0.01867858689524575, 0.023722764576395775, 0.02486494067853985, 0.02511193727444773, 0.025244814515126036, 0.02974577792677443, 0.030575848379987888, 0.036444463267471146, 0.037313049842288136, 0.060851896828840346, 0.07009792655381776, 0.07133120331114536, 0.08265012671090916, 0.09039549979956667], \"xaxis\": \"x\", \"y\": [\"TFID43\", \"Salesday\", \"TFID15\", \"TFID8\", \"TFID14\", \"TFID47\", \"CALL_LIST_006\", \"TFID50\", \"TFID16\", \"TFID28\", \"Side\", \"TFID35\", \"Salesmonth\", \"Left_Loss_Level-L3\", \"TFID49\", \"TFID29\", \"TFID9\", \"TFID46\", \"TFID30\", \"TFID17\", \"Right_Loss_Level-L3\", \"TFID11\", \"Gender_Female\", \"TFID12\", \"TFID36\", \"TFID19\", \"TFID33\", \"TFID32\", \"TFID20\", \"TFID21\", \"TFID7\", \"YearOfBirth\", \"TFID10\", \"TFID45\", \"TFID37\", \"TFID38\", \"TFID31\", \"TFID42\", \"TFID40\", \"Combined_Loss-L3\", \"TFID26\", \"TFID13\", \"TFID18\", \"PROVINCE_ABBR_BC\", \"TFID5\", \"TFID3\", \"CALL_LIST_007\", \"TFID39\", \"TFID24\", \"LONGITUDE\", \"TFID1\", \"TFID41\", \"LATITUDE\", \"Left_Loss_Level-L4\", \"Right_Loss_Level-L4\", \"Gender_Male\", \"Callday\", \"Callyear\", \"Combined_Loss-L4\", \"TFID2\", \"CallFrequency\", \"Callmonth\"], \"yaxis\": \"y\"}, {\"alignmentgroup\": \"True\", \"hoverlabel\": {\"namelength\": 0}, \"hovertemplate\": \"Feature: %{y} <br> Importance: %{x}\", \"legendgroup\": \"color=Most Important Feature\", \"marker\": {\"color\": \"#EF553B\"}, \"name\": \"color=Most Important Feature\", \"offsetgroup\": \"color=Most Important Feature\", \"orientation\": \"h\", \"showlegend\": true, \"textposition\": \"auto\", \"type\": \"bar\", \"x\": [0.1900024247507438], \"xaxis\": \"x\", \"y\": [\"Salesyear\"], \"yaxis\": \"y\"}],\n",
              "                        {\"barmode\": \"relative\", \"height\": 1200, \"legend\": {\"tracegroupgap\": 0, \"x\": 0.998, \"xanchor\": \"right\", \"y\": 0.002, \"yanchor\": \"bottom\"}, \"template\": {\"data\": {\"bar\": [{\"error_x\": {\"color\": \"#2a3f5f\"}, \"error_y\": {\"color\": \"#2a3f5f\"}, \"marker\": {\"line\": {\"color\": \"#E5ECF6\", \"width\": 0.5}}, \"type\": \"bar\"}], \"barpolar\": [{\"marker\": {\"line\": {\"color\": \"#E5ECF6\", \"width\": 0.5}}, \"type\": \"barpolar\"}], \"carpet\": [{\"aaxis\": {\"endlinecolor\": \"#2a3f5f\", \"gridcolor\": \"white\", \"linecolor\": \"white\", \"minorgridcolor\": \"white\", \"startlinecolor\": \"#2a3f5f\"}, \"baxis\": {\"endlinecolor\": \"#2a3f5f\", \"gridcolor\": \"white\", \"linecolor\": \"white\", \"minorgridcolor\": \"white\", \"startlinecolor\": \"#2a3f5f\"}, \"type\": \"carpet\"}], \"choropleth\": [{\"colorbar\": {\"outlinewidth\": 0, \"ticks\": \"\"}, \"type\": \"choropleth\"}], \"contour\": [{\"colorbar\": {\"outlinewidth\": 0, \"ticks\": \"\"}, \"colorscale\": [[0.0, \"#0d0887\"], [0.1111111111111111, \"#46039f\"], [0.2222222222222222, \"#7201a8\"], [0.3333333333333333, \"#9c179e\"], [0.4444444444444444, \"#bd3786\"], [0.5555555555555556, \"#d8576b\"], [0.6666666666666666, \"#ed7953\"], [0.7777777777777778, \"#fb9f3a\"], [0.8888888888888888, \"#fdca26\"], [1.0, \"#f0f921\"]], \"type\": \"contour\"}], \"contourcarpet\": [{\"colorbar\": {\"outlinewidth\": 0, \"ticks\": \"\"}, \"type\": \"contourcarpet\"}], \"heatmap\": [{\"colorbar\": {\"outlinewidth\": 0, \"ticks\": \"\"}, \"colorscale\": [[0.0, \"#0d0887\"], [0.1111111111111111, \"#46039f\"], [0.2222222222222222, \"#7201a8\"], [0.3333333333333333, \"#9c179e\"], [0.4444444444444444, \"#bd3786\"], [0.5555555555555556, \"#d8576b\"], [0.6666666666666666, \"#ed7953\"], [0.7777777777777778, \"#fb9f3a\"], [0.8888888888888888, \"#fdca26\"], [1.0, \"#f0f921\"]], \"type\": \"heatmap\"}], \"heatmapgl\": [{\"colorbar\": {\"outlinewidth\": 0, \"ticks\": \"\"}, \"colorscale\": [[0.0, \"#0d0887\"], [0.1111111111111111, \"#46039f\"], [0.2222222222222222, \"#7201a8\"], [0.3333333333333333, \"#9c179e\"], [0.4444444444444444, \"#bd3786\"], [0.5555555555555556, \"#d8576b\"], [0.6666666666666666, \"#ed7953\"], [0.7777777777777778, \"#fb9f3a\"], [0.8888888888888888, \"#fdca26\"], [1.0, \"#f0f921\"]], \"type\": \"heatmapgl\"}], \"histogram\": [{\"marker\": {\"colorbar\": {\"outlinewidth\": 0, \"ticks\": \"\"}}, \"type\": \"histogram\"}], \"histogram2d\": [{\"colorbar\": {\"outlinewidth\": 0, \"ticks\": \"\"}, \"colorscale\": [[0.0, \"#0d0887\"], [0.1111111111111111, \"#46039f\"], [0.2222222222222222, \"#7201a8\"], [0.3333333333333333, \"#9c179e\"], [0.4444444444444444, \"#bd3786\"], [0.5555555555555556, \"#d8576b\"], [0.6666666666666666, \"#ed7953\"], [0.7777777777777778, \"#fb9f3a\"], [0.8888888888888888, \"#fdca26\"], [1.0, \"#f0f921\"]], \"type\": \"histogram2d\"}], \"histogram2dcontour\": [{\"colorbar\": {\"outlinewidth\": 0, \"ticks\": \"\"}, \"colorscale\": [[0.0, \"#0d0887\"], [0.1111111111111111, \"#46039f\"], [0.2222222222222222, \"#7201a8\"], [0.3333333333333333, \"#9c179e\"], [0.4444444444444444, \"#bd3786\"], [0.5555555555555556, \"#d8576b\"], [0.6666666666666666, \"#ed7953\"], [0.7777777777777778, \"#fb9f3a\"], [0.8888888888888888, \"#fdca26\"], [1.0, \"#f0f921\"]], \"type\": \"histogram2dcontour\"}], \"mesh3d\": [{\"colorbar\": {\"outlinewidth\": 0, \"ticks\": \"\"}, \"type\": \"mesh3d\"}], \"parcoords\": [{\"line\": {\"colorbar\": {\"outlinewidth\": 0, \"ticks\": \"\"}}, \"type\": \"parcoords\"}], \"pie\": [{\"automargin\": true, \"type\": \"pie\"}], \"scatter\": [{\"marker\": {\"colorbar\": {\"outlinewidth\": 0, \"ticks\": \"\"}}, \"type\": \"scatter\"}], \"scatter3d\": [{\"line\": {\"colorbar\": {\"outlinewidth\": 0, \"ticks\": \"\"}}, \"marker\": {\"colorbar\": {\"outlinewidth\": 0, \"ticks\": \"\"}}, \"type\": \"scatter3d\"}], \"scattercarpet\": [{\"marker\": {\"colorbar\": {\"outlinewidth\": 0, \"ticks\": \"\"}}, \"type\": \"scattercarpet\"}], \"scattergeo\": [{\"marker\": {\"colorbar\": {\"outlinewidth\": 0, \"ticks\": \"\"}}, \"type\": \"scattergeo\"}], \"scattergl\": [{\"marker\": {\"colorbar\": {\"outlinewidth\": 0, \"ticks\": \"\"}}, \"type\": \"scattergl\"}], \"scattermapbox\": [{\"marker\": {\"colorbar\": {\"outlinewidth\": 0, \"ticks\": \"\"}}, \"type\": \"scattermapbox\"}], \"scatterpolar\": [{\"marker\": {\"colorbar\": {\"outlinewidth\": 0, \"ticks\": \"\"}}, \"type\": \"scatterpolar\"}], \"scatterpolargl\": [{\"marker\": {\"colorbar\": {\"outlinewidth\": 0, \"ticks\": \"\"}}, \"type\": \"scatterpolargl\"}], \"scatterternary\": [{\"marker\": {\"colorbar\": {\"outlinewidth\": 0, \"ticks\": \"\"}}, \"type\": \"scatterternary\"}], \"surface\": [{\"colorbar\": {\"outlinewidth\": 0, \"ticks\": \"\"}, \"colorscale\": [[0.0, \"#0d0887\"], [0.1111111111111111, \"#46039f\"], [0.2222222222222222, \"#7201a8\"], [0.3333333333333333, \"#9c179e\"], [0.4444444444444444, \"#bd3786\"], [0.5555555555555556, \"#d8576b\"], [0.6666666666666666, \"#ed7953\"], [0.7777777777777778, \"#fb9f3a\"], [0.8888888888888888, \"#fdca26\"], [1.0, \"#f0f921\"]], \"type\": \"surface\"}], \"table\": [{\"cells\": {\"fill\": {\"color\": \"#EBF0F8\"}, \"line\": {\"color\": \"white\"}}, \"header\": {\"fill\": {\"color\": \"#C8D4E3\"}, \"line\": {\"color\": \"white\"}}, \"type\": \"table\"}]}, \"layout\": {\"annotationdefaults\": {\"arrowcolor\": \"#2a3f5f\", \"arrowhead\": 0, \"arrowwidth\": 1}, \"coloraxis\": {\"colorbar\": {\"outlinewidth\": 0, \"ticks\": \"\"}}, \"colorscale\": {\"diverging\": [[0, \"#8e0152\"], [0.1, \"#c51b7d\"], [0.2, \"#de77ae\"], [0.3, \"#f1b6da\"], [0.4, \"#fde0ef\"], [0.5, \"#f7f7f7\"], [0.6, \"#e6f5d0\"], [0.7, \"#b8e186\"], [0.8, \"#7fbc41\"], [0.9, \"#4d9221\"], [1, \"#276419\"]], \"sequential\": [[0.0, \"#0d0887\"], [0.1111111111111111, \"#46039f\"], [0.2222222222222222, \"#7201a8\"], [0.3333333333333333, \"#9c179e\"], [0.4444444444444444, \"#bd3786\"], [0.5555555555555556, \"#d8576b\"], [0.6666666666666666, \"#ed7953\"], [0.7777777777777778, \"#fb9f3a\"], [0.8888888888888888, \"#fdca26\"], [1.0, \"#f0f921\"]], \"sequentialminus\": [[0.0, \"#0d0887\"], [0.1111111111111111, \"#46039f\"], [0.2222222222222222, \"#7201a8\"], [0.3333333333333333, \"#9c179e\"], [0.4444444444444444, \"#bd3786\"], [0.5555555555555556, \"#d8576b\"], [0.6666666666666666, \"#ed7953\"], [0.7777777777777778, \"#fb9f3a\"], [0.8888888888888888, \"#fdca26\"], [1.0, \"#f0f921\"]]}, \"colorway\": [\"#636efa\", \"#EF553B\", \"#00cc96\", \"#ab63fa\", \"#FFA15A\", \"#19d3f3\", \"#FF6692\", \"#B6E880\", \"#FF97FF\", \"#FECB52\"], \"font\": {\"color\": \"#2a3f5f\"}, \"geo\": {\"bgcolor\": \"white\", \"lakecolor\": \"white\", \"landcolor\": \"#E5ECF6\", \"showlakes\": true, \"showland\": true, \"subunitcolor\": \"white\"}, \"hoverlabel\": {\"align\": \"left\"}, \"hovermode\": \"closest\", \"mapbox\": {\"style\": \"light\"}, \"paper_bgcolor\": \"white\", \"plot_bgcolor\": \"#E5ECF6\", \"polar\": {\"angularaxis\": {\"gridcolor\": \"white\", \"linecolor\": \"white\", \"ticks\": \"\"}, \"bgcolor\": \"#E5ECF6\", \"radialaxis\": {\"gridcolor\": \"white\", \"linecolor\": \"white\", \"ticks\": \"\"}}, \"scene\": {\"xaxis\": {\"backgroundcolor\": \"#E5ECF6\", \"gridcolor\": \"white\", \"gridwidth\": 2, \"linecolor\": \"white\", \"showbackground\": true, \"ticks\": \"\", \"zerolinecolor\": \"white\"}, \"yaxis\": {\"backgroundcolor\": \"#E5ECF6\", \"gridcolor\": \"white\", \"gridwidth\": 2, \"linecolor\": \"white\", \"showbackground\": true, \"ticks\": \"\", \"zerolinecolor\": \"white\"}, \"zaxis\": {\"backgroundcolor\": \"#E5ECF6\", \"gridcolor\": \"white\", \"gridwidth\": 2, \"linecolor\": \"white\", \"showbackground\": true, \"ticks\": \"\", \"zerolinecolor\": \"white\"}}, \"shapedefaults\": {\"line\": {\"color\": \"#2a3f5f\"}}, \"ternary\": {\"aaxis\": {\"gridcolor\": \"white\", \"linecolor\": \"white\", \"ticks\": \"\"}, \"baxis\": {\"gridcolor\": \"white\", \"linecolor\": \"white\", \"ticks\": \"\"}, \"bgcolor\": \"#E5ECF6\", \"caxis\": {\"gridcolor\": \"white\", \"linecolor\": \"white\", \"ticks\": \"\"}}, \"title\": {\"x\": 0.05}, \"xaxis\": {\"automargin\": true, \"gridcolor\": \"white\", \"linecolor\": \"white\", \"ticks\": \"\", \"title\": {\"standoff\": 15}, \"zerolinecolor\": \"white\", \"zerolinewidth\": 2}, \"yaxis\": {\"automargin\": true, \"gridcolor\": \"white\", \"linecolor\": \"white\", \"ticks\": \"\", \"title\": {\"standoff\": 15}, \"zerolinecolor\": \"white\", \"zerolinewidth\": 2}}}, \"title\": {\"text\": \"Feature Importance - Random Forest\"}, \"width\": 1000, \"xaxis\": {\"anchor\": \"y\", \"domain\": [0.0, 1.0], \"title\": {\"text\": \"importance\"}}, \"yaxis\": {\"anchor\": \"x\", \"domain\": [0.0, 1.0], \"dtick\": 1, \"tickformat\": \".0f\", \"title\": {\"text\": \"feature\"}}},\n",
              "                        {\"responsive\": true}\n",
              "                    ).then(function(){\n",
              "                            \n",
              "var gd = document.getElementById('b45ed93c-4a42-4af2-8a30-ed135960063e');\n",
              "var x = new MutationObserver(function (mutations, observer) {{\n",
              "        var display = window.getComputedStyle(gd).display;\n",
              "        if (!display || display === 'none') {{\n",
              "            console.log([gd, 'removed!']);\n",
              "            Plotly.purge(gd);\n",
              "            observer.disconnect();\n",
              "        }}\n",
              "}});\n",
              "\n",
              "// Listen for the removal of the full notebook cells\n",
              "var notebookContainer = gd.closest('#notebook-container');\n",
              "if (notebookContainer) {{\n",
              "    x.observe(notebookContainer, {childList: true});\n",
              "}}\n",
              "\n",
              "// Listen for the clearing of the current output cell\n",
              "var outputEl = gd.closest('.output');\n",
              "if (outputEl) {{\n",
              "    x.observe(outputEl, {childList: true});\n",
              "}}\n",
              "\n",
              "                        })\n",
              "                };\n",
              "                \n",
              "            </script>\n",
              "        </div>\n",
              "</body>\n",
              "</html>"
            ]
          },
          "metadata": {}
        }
      ]
    },
    {
      "cell_type": "markdown",
      "metadata": {
        "id": "iBaD2hIzJDQ3"
      },
      "source": [
        "## **Model Interpretations and Evaluation : ADA Boost Evaluation**"
      ]
    },
    {
      "cell_type": "markdown",
      "metadata": {
        "id": "9mN23tbF7m8d"
      },
      "source": [
        "### **ROC AUC : ADA Boost Evaluation (on Method = Predict Proba)**"
      ]
    },
    {
      "cell_type": "code",
      "metadata": {
        "colab": {
          "base_uri": "https://localhost:8080/"
        },
        "id": "gUWKb9Eo7qHO",
        "outputId": "eff4568b-f61b-4732-a803-0345e6f26b40"
      },
      "source": [
        "#ADA Boost AUC score on Training Set\n",
        "y_ADA_Prediction = AdaClassifier_best_estimators_.predict_proba(X_train)\n",
        "y_ADA_Scores = y_ADA_Prediction[:, 1] # score = proba of positive class\n",
        "print(roc_auc_score(y_train, y_ADA_Scores))"
      ],
      "execution_count": 201,
      "outputs": [
        {
          "output_type": "stream",
          "text": [
            "0.8028359407589183\n"
          ],
          "name": "stdout"
        }
      ]
    },
    {
      "cell_type": "code",
      "metadata": {
        "colab": {
          "base_uri": "https://localhost:8080/"
        },
        "id": "884ctFne8As5",
        "outputId": "4f08f6c7-1e63-4834-d37d-60457bbbbb8c"
      },
      "source": [
        "#ADA Boost AUC score on Training Set\n",
        "y_ADA_TPrediction = AdaClassifier_best_estimators_.predict_proba(X_test)\n",
        "y_ADA_TScores = y_ADA_TPrediction[:, 1] # score = proba of positive class\n",
        "print(roc_auc_score(y_test, y_ADA_TScores))"
      ],
      "execution_count": 202,
      "outputs": [
        {
          "output_type": "stream",
          "text": [
            "0.8025715433520053\n"
          ],
          "name": "stdout"
        }
      ]
    },
    {
      "cell_type": "markdown",
      "metadata": {
        "id": "3AbPV-Z38_kM"
      },
      "source": [
        "### **Confusion Matrix : ADA Boost**"
      ]
    },
    {
      "cell_type": "code",
      "metadata": {
        "colab": {
          "base_uri": "https://localhost:8080/"
        },
        "id": "Sr7QsIEL8r-1",
        "outputId": "0acac930-553f-4dfa-8d5b-4f8a3f0c65df"
      },
      "source": [
        "#Create the confusion Matrix on the training set for ADA Boost Classifier\n",
        "from sklearn.metrics import confusion_matrix\n",
        "predict_ADAClassifier = cross_val_predict(AdaClassifier_best_estimators_,X_train,y_train, cv=4)\n",
        "confusion_matrix(y_train, predict_ADAClassifier)"
      ],
      "execution_count": 203,
      "outputs": [
        {
          "output_type": "execute_result",
          "data": {
            "text/plain": [
              "array([[208092,  51341],\n",
              "       [ 70271, 161033]])"
            ]
          },
          "metadata": {},
          "execution_count": 203
        }
      ]
    },
    {
      "cell_type": "code",
      "metadata": {
        "colab": {
          "base_uri": "https://localhost:8080/"
        },
        "id": "o01ccCs39YkP",
        "outputId": "a07b1fe5-2562-47f0-8663-4f85ca9128b1"
      },
      "source": [
        "predict_TADAClassifier = cross_val_predict(AdaClassifier_best_estimators_,X_test,y_test, cv=4)\n",
        "confusion_matrix(y_test, predict_TADAClassifier)"
      ],
      "execution_count": 204,
      "outputs": [
        {
          "output_type": "execute_result",
          "data": {
            "text/plain": [
              "array([[52022, 12892],\n",
              "       [17698, 40073]])"
            ]
          },
          "metadata": {},
          "execution_count": 204
        }
      ]
    },
    {
      "cell_type": "markdown",
      "metadata": {
        "id": "K-dqydrn9ioZ"
      },
      "source": [
        "### **Precision and Recall Score : ADA Boost**"
      ]
    },
    {
      "cell_type": "code",
      "metadata": {
        "colab": {
          "base_uri": "https://localhost:8080/"
        },
        "id": "DW0TMcyn9gCe",
        "outputId": "74bce993-91f0-4098-a741-c7b1e3a3979d"
      },
      "source": [
        "#Precision and Recall for ADA Boost : Train\n",
        "from sklearn.metrics import precision_score, recall_score\n",
        "print(\"Precision Score for Training Set : {} \".format(precision_score(y_train,predict_ADAClassifier)))\n",
        "print(\"Recall Score for Training Set : {}\".format(recall_score(y_train,predict_ADAClassifier)))"
      ],
      "execution_count": 205,
      "outputs": [
        {
          "output_type": "stream",
          "text": [
            "Precision Score for Training Set : 0.7582519517455055 \n",
            "Recall Score for Training Set : 0.6961963476636807\n"
          ],
          "name": "stdout"
        }
      ]
    },
    {
      "cell_type": "code",
      "metadata": {
        "colab": {
          "base_uri": "https://localhost:8080/"
        },
        "id": "usdhD10_-DLJ",
        "outputId": "5eda39f2-6357-454a-9696-92a4e4f4ebe1"
      },
      "source": [
        "#Precision and Recall for ADA Boost : Test\n",
        "print(\"Precision Score for Training Set : {} \".format(precision_score(y_test,predict_TADAClassifier)))\n",
        "print(\"Recall Score for Training Set : {}\".format(recall_score(y_test,predict_TADAClassifier)))"
      ],
      "execution_count": 206,
      "outputs": [
        {
          "output_type": "stream",
          "text": [
            "Precision Score for Training Set : 0.7565939771547249 \n",
            "Recall Score for Training Set : 0.6936525246230808\n"
          ],
          "name": "stdout"
        }
      ]
    },
    {
      "cell_type": "markdown",
      "metadata": {
        "id": "Y2pIrusHR61b"
      },
      "source": [
        "### **Feature Importance : ADA Boost**"
      ]
    },
    {
      "cell_type": "code",
      "metadata": {
        "id": "45we0b-GR_xD"
      },
      "source": [
        "Total_Features = [col for col in X_train.columns]\n",
        "feature_importance_ada = pd.DataFrame()\n",
        "feature_importance_ada[\"feature\"] = Total_Features\n",
        "feature_importance_ada[\"importance\"] = AdaClassifier_best_estimators_.feature_importances_\n",
        "feature_importance_ada.sort_values(by=['importance'],ascending=False, inplace=True)\n",
        "feature_importance_ada = feature_importance_ada[feature_importance_ada['importance']!=0]\n",
        "feature_importance_ada = feature_importance_ada.reset_index()\n",
        "feature_importance_ada.drop(['index'],axis=1,inplace=True)"
      ],
      "execution_count": 207,
      "outputs": []
    },
    {
      "cell_type": "code",
      "metadata": {
        "colab": {
          "base_uri": "https://localhost:8080/",
          "height": 717
        },
        "id": "x99w-v0AST6R",
        "outputId": "5815f1a3-8526-4681-cb35-c0aa3306c097"
      },
      "source": [
        "colors = ['Other Features'] * 21\n",
        "colors[20] = 'Most Important Feature'\n",
        "feature_importance_ada = feature_importance_ada.sort_values(by=['importance'])\n",
        "fig = px.bar(feature_importance_ada, x=\"importance\", y=\"feature\", orientation='h', width = 1000, height=700,color=colors,title=\"Feature Importance - ADA Boost\")\n",
        "fig.update_yaxes(dtick=1,tickformat='.0f')\n",
        "fig.update_traces(hovertemplate='Feature: %{y} <br> Importance: %{x}') #\n",
        "fig.update_layout(legend=dict(\n",
        "    yanchor=\"bottom\",\n",
        "    x=0.998,\n",
        "    xanchor=\"right\",\n",
        "    y=0.002\n",
        "))\n",
        "fig.show()"
      ],
      "execution_count": 208,
      "outputs": [
        {
          "output_type": "display_data",
          "data": {
            "text/html": [
              "<html>\n",
              "<head><meta charset=\"utf-8\" /></head>\n",
              "<body>\n",
              "    <div>\n",
              "            <script src=\"https://cdnjs.cloudflare.com/ajax/libs/mathjax/2.7.5/MathJax.js?config=TeX-AMS-MML_SVG\"></script><script type=\"text/javascript\">if (window.MathJax) {MathJax.Hub.Config({SVG: {font: \"STIX-Web\"}});}</script>\n",
              "                <script type=\"text/javascript\">window.PlotlyConfig = {MathJaxConfig: 'local'};</script>\n",
              "        <script src=\"https://cdn.plot.ly/plotly-latest.min.js\"></script>    \n",
              "            <div id=\"522527ae-5b2e-425d-a997-0e9b6896dd02\" class=\"plotly-graph-div\" style=\"height:700px; width:1000px;\"></div>\n",
              "            <script type=\"text/javascript\">\n",
              "                \n",
              "                    window.PLOTLYENV=window.PLOTLYENV || {};\n",
              "                    \n",
              "                if (document.getElementById(\"522527ae-5b2e-425d-a997-0e9b6896dd02\")) {\n",
              "                    Plotly.newPlot(\n",
              "                        '522527ae-5b2e-425d-a997-0e9b6896dd02',\n",
              "                        [{\"alignmentgroup\": \"True\", \"hoverlabel\": {\"namelength\": 0}, \"hovertemplate\": \"Feature: %{y} <br> Importance: %{x}\", \"legendgroup\": \"color=Other Features\", \"marker\": {\"color\": \"#636efa\"}, \"name\": \"color=Other Features\", \"offsetgroup\": \"color=Other Features\", \"orientation\": \"h\", \"showlegend\": true, \"textposition\": \"auto\", \"type\": \"bar\", \"x\": [0.005, 0.005, 0.01, 0.01, 0.01, 0.015, 0.015, 0.02, 0.025, 0.025, 0.03, 0.035, 0.035, 0.04, 0.05, 0.05, 0.065, 0.075, 0.075, 0.095], \"xaxis\": \"x\", \"y\": [\"Combined_Loss-L2\", \"Right_Loss_Level-L2\", \"PROVINCE_ABBR_BC\", \"Left_Loss_Level-L2\", \"Left_Loss_Level-L5\", \"CALL_LIST_008\", \"Left_Loss_Level-L4\", \"Right_Loss_Level-L5\", \"CallFrequency\", \"Right_Loss_Level-L4\", \"YearOfBirth\", \"Combined_Loss-L5\", \"Combined_Loss-L4\", \"Callmonth\", \"LATITUDE\", \"LONGITUDE\", \"CALL_LIST_002\", \"Gender_Male\", \"TFID1\", \"Callyear\"], \"yaxis\": \"y\"}, {\"alignmentgroup\": \"True\", \"hoverlabel\": {\"namelength\": 0}, \"hovertemplate\": \"Feature: %{y} <br> Importance: %{x}\", \"legendgroup\": \"color=Most Important Feature\", \"marker\": {\"color\": \"#EF553B\"}, \"name\": \"color=Most Important Feature\", \"offsetgroup\": \"color=Most Important Feature\", \"orientation\": \"h\", \"showlegend\": true, \"textposition\": \"auto\", \"type\": \"bar\", \"x\": [0.31], \"xaxis\": \"x\", \"y\": [\"Salesyear\"], \"yaxis\": \"y\"}],\n",
              "                        {\"barmode\": \"relative\", \"height\": 700, \"legend\": {\"tracegroupgap\": 0, \"x\": 0.998, \"xanchor\": \"right\", \"y\": 0.002, \"yanchor\": \"bottom\"}, \"template\": {\"data\": {\"bar\": [{\"error_x\": {\"color\": \"#2a3f5f\"}, \"error_y\": {\"color\": \"#2a3f5f\"}, \"marker\": {\"line\": {\"color\": \"#E5ECF6\", \"width\": 0.5}}, \"type\": \"bar\"}], \"barpolar\": [{\"marker\": {\"line\": {\"color\": \"#E5ECF6\", \"width\": 0.5}}, \"type\": \"barpolar\"}], \"carpet\": [{\"aaxis\": {\"endlinecolor\": \"#2a3f5f\", \"gridcolor\": \"white\", \"linecolor\": \"white\", \"minorgridcolor\": \"white\", \"startlinecolor\": \"#2a3f5f\"}, \"baxis\": {\"endlinecolor\": \"#2a3f5f\", \"gridcolor\": \"white\", \"linecolor\": \"white\", \"minorgridcolor\": \"white\", \"startlinecolor\": \"#2a3f5f\"}, \"type\": \"carpet\"}], \"choropleth\": [{\"colorbar\": {\"outlinewidth\": 0, \"ticks\": \"\"}, \"type\": \"choropleth\"}], \"contour\": [{\"colorbar\": {\"outlinewidth\": 0, \"ticks\": \"\"}, \"colorscale\": [[0.0, \"#0d0887\"], [0.1111111111111111, \"#46039f\"], [0.2222222222222222, \"#7201a8\"], [0.3333333333333333, \"#9c179e\"], [0.4444444444444444, \"#bd3786\"], [0.5555555555555556, \"#d8576b\"], [0.6666666666666666, \"#ed7953\"], [0.7777777777777778, \"#fb9f3a\"], [0.8888888888888888, \"#fdca26\"], [1.0, \"#f0f921\"]], \"type\": \"contour\"}], \"contourcarpet\": [{\"colorbar\": {\"outlinewidth\": 0, \"ticks\": \"\"}, \"type\": \"contourcarpet\"}], \"heatmap\": [{\"colorbar\": {\"outlinewidth\": 0, \"ticks\": \"\"}, \"colorscale\": [[0.0, \"#0d0887\"], [0.1111111111111111, \"#46039f\"], [0.2222222222222222, \"#7201a8\"], [0.3333333333333333, \"#9c179e\"], [0.4444444444444444, \"#bd3786\"], [0.5555555555555556, \"#d8576b\"], [0.6666666666666666, \"#ed7953\"], [0.7777777777777778, \"#fb9f3a\"], [0.8888888888888888, \"#fdca26\"], [1.0, \"#f0f921\"]], \"type\": \"heatmap\"}], \"heatmapgl\": [{\"colorbar\": {\"outlinewidth\": 0, \"ticks\": \"\"}, \"colorscale\": [[0.0, \"#0d0887\"], [0.1111111111111111, \"#46039f\"], [0.2222222222222222, \"#7201a8\"], [0.3333333333333333, \"#9c179e\"], [0.4444444444444444, \"#bd3786\"], [0.5555555555555556, \"#d8576b\"], [0.6666666666666666, \"#ed7953\"], [0.7777777777777778, \"#fb9f3a\"], [0.8888888888888888, \"#fdca26\"], [1.0, \"#f0f921\"]], \"type\": \"heatmapgl\"}], \"histogram\": [{\"marker\": {\"colorbar\": {\"outlinewidth\": 0, \"ticks\": \"\"}}, \"type\": \"histogram\"}], \"histogram2d\": [{\"colorbar\": {\"outlinewidth\": 0, \"ticks\": \"\"}, \"colorscale\": [[0.0, \"#0d0887\"], [0.1111111111111111, \"#46039f\"], [0.2222222222222222, \"#7201a8\"], [0.3333333333333333, \"#9c179e\"], [0.4444444444444444, \"#bd3786\"], [0.5555555555555556, \"#d8576b\"], [0.6666666666666666, \"#ed7953\"], [0.7777777777777778, \"#fb9f3a\"], [0.8888888888888888, \"#fdca26\"], [1.0, \"#f0f921\"]], \"type\": \"histogram2d\"}], \"histogram2dcontour\": [{\"colorbar\": {\"outlinewidth\": 0, \"ticks\": \"\"}, \"colorscale\": [[0.0, \"#0d0887\"], [0.1111111111111111, \"#46039f\"], [0.2222222222222222, \"#7201a8\"], [0.3333333333333333, \"#9c179e\"], [0.4444444444444444, \"#bd3786\"], [0.5555555555555556, \"#d8576b\"], [0.6666666666666666, \"#ed7953\"], [0.7777777777777778, \"#fb9f3a\"], [0.8888888888888888, \"#fdca26\"], [1.0, \"#f0f921\"]], \"type\": \"histogram2dcontour\"}], \"mesh3d\": [{\"colorbar\": {\"outlinewidth\": 0, \"ticks\": \"\"}, \"type\": \"mesh3d\"}], \"parcoords\": [{\"line\": {\"colorbar\": {\"outlinewidth\": 0, \"ticks\": \"\"}}, \"type\": \"parcoords\"}], \"pie\": [{\"automargin\": true, \"type\": \"pie\"}], \"scatter\": [{\"marker\": {\"colorbar\": {\"outlinewidth\": 0, \"ticks\": \"\"}}, \"type\": \"scatter\"}], \"scatter3d\": [{\"line\": {\"colorbar\": {\"outlinewidth\": 0, \"ticks\": \"\"}}, \"marker\": {\"colorbar\": {\"outlinewidth\": 0, \"ticks\": \"\"}}, \"type\": \"scatter3d\"}], \"scattercarpet\": [{\"marker\": {\"colorbar\": {\"outlinewidth\": 0, \"ticks\": \"\"}}, \"type\": \"scattercarpet\"}], \"scattergeo\": [{\"marker\": {\"colorbar\": {\"outlinewidth\": 0, \"ticks\": \"\"}}, \"type\": \"scattergeo\"}], \"scattergl\": [{\"marker\": {\"colorbar\": {\"outlinewidth\": 0, \"ticks\": \"\"}}, \"type\": \"scattergl\"}], \"scattermapbox\": [{\"marker\": {\"colorbar\": {\"outlinewidth\": 0, \"ticks\": \"\"}}, \"type\": \"scattermapbox\"}], \"scatterpolar\": [{\"marker\": {\"colorbar\": {\"outlinewidth\": 0, \"ticks\": \"\"}}, \"type\": \"scatterpolar\"}], \"scatterpolargl\": [{\"marker\": {\"colorbar\": {\"outlinewidth\": 0, \"ticks\": \"\"}}, \"type\": \"scatterpolargl\"}], \"scatterternary\": [{\"marker\": {\"colorbar\": {\"outlinewidth\": 0, \"ticks\": \"\"}}, \"type\": \"scatterternary\"}], \"surface\": [{\"colorbar\": {\"outlinewidth\": 0, \"ticks\": \"\"}, \"colorscale\": [[0.0, \"#0d0887\"], [0.1111111111111111, \"#46039f\"], [0.2222222222222222, \"#7201a8\"], [0.3333333333333333, \"#9c179e\"], [0.4444444444444444, \"#bd3786\"], [0.5555555555555556, \"#d8576b\"], [0.6666666666666666, \"#ed7953\"], [0.7777777777777778, \"#fb9f3a\"], [0.8888888888888888, \"#fdca26\"], [1.0, \"#f0f921\"]], \"type\": \"surface\"}], \"table\": [{\"cells\": {\"fill\": {\"color\": \"#EBF0F8\"}, \"line\": {\"color\": \"white\"}}, \"header\": {\"fill\": {\"color\": \"#C8D4E3\"}, \"line\": {\"color\": \"white\"}}, \"type\": \"table\"}]}, \"layout\": {\"annotationdefaults\": {\"arrowcolor\": \"#2a3f5f\", \"arrowhead\": 0, \"arrowwidth\": 1}, \"coloraxis\": {\"colorbar\": {\"outlinewidth\": 0, \"ticks\": \"\"}}, \"colorscale\": {\"diverging\": [[0, \"#8e0152\"], [0.1, \"#c51b7d\"], [0.2, \"#de77ae\"], [0.3, \"#f1b6da\"], [0.4, \"#fde0ef\"], [0.5, \"#f7f7f7\"], [0.6, \"#e6f5d0\"], [0.7, \"#b8e186\"], [0.8, \"#7fbc41\"], [0.9, \"#4d9221\"], [1, \"#276419\"]], \"sequential\": [[0.0, \"#0d0887\"], [0.1111111111111111, \"#46039f\"], [0.2222222222222222, \"#7201a8\"], [0.3333333333333333, \"#9c179e\"], [0.4444444444444444, \"#bd3786\"], [0.5555555555555556, \"#d8576b\"], [0.6666666666666666, \"#ed7953\"], [0.7777777777777778, \"#fb9f3a\"], [0.8888888888888888, \"#fdca26\"], [1.0, \"#f0f921\"]], \"sequentialminus\": [[0.0, \"#0d0887\"], [0.1111111111111111, \"#46039f\"], [0.2222222222222222, \"#7201a8\"], [0.3333333333333333, \"#9c179e\"], [0.4444444444444444, \"#bd3786\"], [0.5555555555555556, \"#d8576b\"], [0.6666666666666666, \"#ed7953\"], [0.7777777777777778, \"#fb9f3a\"], [0.8888888888888888, \"#fdca26\"], [1.0, \"#f0f921\"]]}, \"colorway\": [\"#636efa\", \"#EF553B\", \"#00cc96\", \"#ab63fa\", \"#FFA15A\", \"#19d3f3\", \"#FF6692\", \"#B6E880\", \"#FF97FF\", \"#FECB52\"], \"font\": {\"color\": \"#2a3f5f\"}, \"geo\": {\"bgcolor\": \"white\", \"lakecolor\": \"white\", \"landcolor\": \"#E5ECF6\", \"showlakes\": true, \"showland\": true, \"subunitcolor\": \"white\"}, \"hoverlabel\": {\"align\": \"left\"}, \"hovermode\": \"closest\", \"mapbox\": {\"style\": \"light\"}, \"paper_bgcolor\": \"white\", \"plot_bgcolor\": \"#E5ECF6\", \"polar\": {\"angularaxis\": {\"gridcolor\": \"white\", \"linecolor\": \"white\", \"ticks\": \"\"}, \"bgcolor\": \"#E5ECF6\", \"radialaxis\": {\"gridcolor\": \"white\", \"linecolor\": \"white\", \"ticks\": \"\"}}, \"scene\": {\"xaxis\": {\"backgroundcolor\": \"#E5ECF6\", \"gridcolor\": \"white\", \"gridwidth\": 2, \"linecolor\": \"white\", \"showbackground\": true, \"ticks\": \"\", \"zerolinecolor\": \"white\"}, \"yaxis\": {\"backgroundcolor\": \"#E5ECF6\", \"gridcolor\": \"white\", \"gridwidth\": 2, \"linecolor\": \"white\", \"showbackground\": true, \"ticks\": \"\", \"zerolinecolor\": \"white\"}, \"zaxis\": {\"backgroundcolor\": \"#E5ECF6\", \"gridcolor\": \"white\", \"gridwidth\": 2, \"linecolor\": \"white\", \"showbackground\": true, \"ticks\": \"\", \"zerolinecolor\": \"white\"}}, \"shapedefaults\": {\"line\": {\"color\": \"#2a3f5f\"}}, \"ternary\": {\"aaxis\": {\"gridcolor\": \"white\", \"linecolor\": \"white\", \"ticks\": \"\"}, \"baxis\": {\"gridcolor\": \"white\", \"linecolor\": \"white\", \"ticks\": \"\"}, \"bgcolor\": \"#E5ECF6\", \"caxis\": {\"gridcolor\": \"white\", \"linecolor\": \"white\", \"ticks\": \"\"}}, \"title\": {\"x\": 0.05}, \"xaxis\": {\"automargin\": true, \"gridcolor\": \"white\", \"linecolor\": \"white\", \"ticks\": \"\", \"title\": {\"standoff\": 15}, \"zerolinecolor\": \"white\", \"zerolinewidth\": 2}, \"yaxis\": {\"automargin\": true, \"gridcolor\": \"white\", \"linecolor\": \"white\", \"ticks\": \"\", \"title\": {\"standoff\": 15}, \"zerolinecolor\": \"white\", \"zerolinewidth\": 2}}}, \"title\": {\"text\": \"Feature Importance - ADA Boost\"}, \"width\": 1000, \"xaxis\": {\"anchor\": \"y\", \"domain\": [0.0, 1.0], \"title\": {\"text\": \"importance\"}}, \"yaxis\": {\"anchor\": \"x\", \"domain\": [0.0, 1.0], \"dtick\": 1, \"tickformat\": \".0f\", \"title\": {\"text\": \"feature\"}}},\n",
              "                        {\"responsive\": true}\n",
              "                    ).then(function(){\n",
              "                            \n",
              "var gd = document.getElementById('522527ae-5b2e-425d-a997-0e9b6896dd02');\n",
              "var x = new MutationObserver(function (mutations, observer) {{\n",
              "        var display = window.getComputedStyle(gd).display;\n",
              "        if (!display || display === 'none') {{\n",
              "            console.log([gd, 'removed!']);\n",
              "            Plotly.purge(gd);\n",
              "            observer.disconnect();\n",
              "        }}\n",
              "}});\n",
              "\n",
              "// Listen for the removal of the full notebook cells\n",
              "var notebookContainer = gd.closest('#notebook-container');\n",
              "if (notebookContainer) {{\n",
              "    x.observe(notebookContainer, {childList: true});\n",
              "}}\n",
              "\n",
              "// Listen for the clearing of the current output cell\n",
              "var outputEl = gd.closest('.output');\n",
              "if (outputEl) {{\n",
              "    x.observe(outputEl, {childList: true});\n",
              "}}\n",
              "\n",
              "                        })\n",
              "                };\n",
              "                \n",
              "            </script>\n",
              "        </div>\n",
              "</body>\n",
              "</html>"
            ]
          },
          "metadata": {}
        }
      ]
    },
    {
      "cell_type": "markdown",
      "metadata": {
        "id": "qMdKrsUzJSMU"
      },
      "source": [
        "## **Model Interpretations and Evaluation : Extra Trees Evaluation**"
      ]
    },
    {
      "cell_type": "markdown",
      "metadata": {
        "id": "zxAi9uNNE7oH"
      },
      "source": [
        "### **ROC AUC : Extra Trees Evaluation (on Method = Predict Proba)**"
      ]
    },
    {
      "cell_type": "code",
      "metadata": {
        "colab": {
          "base_uri": "https://localhost:8080/"
        },
        "id": "-AOEjwXeE-Xg",
        "outputId": "a0316162-b948-4f24-d554-90fa0519f046"
      },
      "source": [
        "y_ET_Prediction = Extra_Classifier_best_estimators_.predict_proba(X_train)\n",
        "y_ET_Scores = y_ET_Prediction[:, 1] # score = proba of positive class\n",
        "print(roc_auc_score(y_train, y_ET_Scores))"
      ],
      "execution_count": 209,
      "outputs": [
        {
          "output_type": "stream",
          "text": [
            "0.6817363832179837\n"
          ],
          "name": "stdout"
        }
      ]
    },
    {
      "cell_type": "code",
      "metadata": {
        "colab": {
          "base_uri": "https://localhost:8080/"
        },
        "id": "yZ4D_mdqFNwO",
        "outputId": "d94991f1-f1c1-4aca-ea97-eb122a321def"
      },
      "source": [
        "y_RF_TPrediction = Extra_Classifier_best_estimators_.predict_proba(X_test)\n",
        "y_ET_TScores = y_RF_TPrediction[:, 1] # score = proba of positive class\n",
        "print(roc_auc_score(y_test , y_ET_TScores))"
      ],
      "execution_count": 210,
      "outputs": [
        {
          "output_type": "stream",
          "text": [
            "0.6832351851993979\n"
          ],
          "name": "stdout"
        }
      ]
    },
    {
      "cell_type": "markdown",
      "metadata": {
        "id": "MOOXzolOFidy"
      },
      "source": [
        "### **Confusion Matrix : Extra Trees Classifier**"
      ]
    },
    {
      "cell_type": "code",
      "metadata": {
        "colab": {
          "base_uri": "https://localhost:8080/"
        },
        "id": "Ah5M0anfFZyJ",
        "outputId": "1ac61a59-e9df-4ad0-edf4-9f5e6845bdbc"
      },
      "source": [
        "### **Confusion Matrix : EXTRA TREES - Training Set*\n",
        "predict_ETClassifier = cross_val_predict(Extra_Classifier_best_estimators_,X_train,y_train, cv=4)\n",
        "confusion_matrix(y_train, predict_ETClassifier)"
      ],
      "execution_count": 211,
      "outputs": [
        {
          "output_type": "execute_result",
          "data": {
            "text/plain": [
              "array([[196033,  63400],\n",
              "       [119104, 112200]])"
            ]
          },
          "metadata": {},
          "execution_count": 211
        }
      ]
    },
    {
      "cell_type": "code",
      "metadata": {
        "colab": {
          "base_uri": "https://localhost:8080/"
        },
        "id": "p_YTQLhNF07y",
        "outputId": "383e4d0b-49db-4aa4-8213-65fb79184c96"
      },
      "source": [
        "### **Confusion Matrix : EXTRA TREES - Test Set*\n",
        "predict_ET_TClassifier = cross_val_predict(Extra_Classifier_best_estimators_,X_test,y_test, cv=4)\n",
        "confusion_matrix(y_test, predict_ET_TClassifier)"
      ],
      "execution_count": 212,
      "outputs": [
        {
          "output_type": "execute_result",
          "data": {
            "text/plain": [
              "array([[49160, 15754],\n",
              "       [29843, 27928]])"
            ]
          },
          "metadata": {},
          "execution_count": 212
        }
      ]
    },
    {
      "cell_type": "markdown",
      "metadata": {
        "id": "3zTTOYe6GFXw"
      },
      "source": [
        "### **Precision and Recall Score : Extra Trees Classifier**"
      ]
    },
    {
      "cell_type": "code",
      "metadata": {
        "colab": {
          "base_uri": "https://localhost:8080/"
        },
        "id": "RHfGjoY4GCBy",
        "outputId": "73312435-0d50-40e6-92e2-02e82d6ffa8a"
      },
      "source": [
        "### **Precision and Recall Score : Extra Trees training set**\n",
        "from sklearn.metrics import precision_score, recall_score\n",
        "print(\"Precision Score for Training Set : {} \".format(precision_score(y_train,predict_ETClassifier)))\n",
        "print(\"Recall Score for Training Set : {}\".format(recall_score(y_train,predict_ETClassifier)))"
      ],
      "execution_count": 213,
      "outputs": [
        {
          "output_type": "stream",
          "text": [
            "Precision Score for Training Set : 0.6389521640091116 \n",
            "Recall Score for Training Set : 0.4850759174073946\n"
          ],
          "name": "stdout"
        }
      ]
    },
    {
      "cell_type": "code",
      "metadata": {
        "colab": {
          "base_uri": "https://localhost:8080/"
        },
        "id": "AV3STbqfGwqZ",
        "outputId": "39555e1c-89b7-4ea3-d47b-ebc8050fe5d8"
      },
      "source": [
        "### **Precision and Recall Score : Extra Trees test set**\n",
        "from sklearn.metrics import precision_score, recall_score\n",
        "print(\"Precision Score for Training Set : {} \".format(precision_score(y_test,predict_ET_TClassifier)))\n",
        "print(\"Recall Score for Training Set : {}\".format(recall_score(y_test,predict_ET_TClassifier)))"
      ],
      "execution_count": 214,
      "outputs": [
        {
          "output_type": "stream",
          "text": [
            "Precision Score for Training Set : 0.6393480152007692 \n",
            "Recall Score for Training Set : 0.48342594035069497\n"
          ],
          "name": "stdout"
        }
      ]
    },
    {
      "cell_type": "markdown",
      "metadata": {
        "id": "8Dx4M7uzS-W8"
      },
      "source": [
        "### **Feature Importance : Extra Trees**"
      ]
    },
    {
      "cell_type": "code",
      "metadata": {
        "id": "rIxktb97TDoM"
      },
      "source": [
        "Total_Features = [col for col in X_train.columns]\n",
        "feature_importance_et = pd.DataFrame()\n",
        "feature_importance_et[\"feature\"] = Total_Features\n",
        "feature_importance_et[\"importance\"] = Extra_Classifier_best_estimators_.feature_importances_\n",
        "feature_importance_et.sort_values(by=['importance'],ascending=False, inplace=True)\n",
        "feature_importance_et = feature_importance_et[feature_importance_et['importance']!=0]\n",
        "feature_importance_et = feature_importance_et.reset_index()\n",
        "feature_importance_et.drop(['index'],axis=1,inplace=True)"
      ],
      "execution_count": 215,
      "outputs": []
    },
    {
      "cell_type": "code",
      "metadata": {
        "colab": {
          "base_uri": "https://localhost:8080/",
          "height": 717
        },
        "id": "VrzNK5wGTbLp",
        "outputId": "652c2555-821d-40ad-bb70-3f0977ffc65f"
      },
      "source": [
        "colors = ['Other Features'] * 19\n",
        "colors[18] = 'Most Important Feature'\n",
        "feature_importance_et = feature_importance_et.sort_values(by=['importance'])\n",
        "fig = px.bar(feature_importance_et, x=\"importance\", y=\"feature\", orientation='h', width = 1000, height=700,color=colors,title=\"Feature Importance - Extra Trees\")\n",
        "fig.update_yaxes(dtick=1,tickformat='.0f')\n",
        "fig.update_traces(hovertemplate='Feature: %{x} <br> Importance: %{y}') #\n",
        "fig.update_layout(legend=dict(\n",
        "    yanchor=\"bottom\",\n",
        "    x=0.998,\n",
        "    xanchor=\"right\",\n",
        "    y=0.002\n",
        "))\n",
        "fig.show()"
      ],
      "execution_count": 217,
      "outputs": [
        {
          "output_type": "display_data",
          "data": {
            "text/html": [
              "<html>\n",
              "<head><meta charset=\"utf-8\" /></head>\n",
              "<body>\n",
              "    <div>\n",
              "            <script src=\"https://cdnjs.cloudflare.com/ajax/libs/mathjax/2.7.5/MathJax.js?config=TeX-AMS-MML_SVG\"></script><script type=\"text/javascript\">if (window.MathJax) {MathJax.Hub.Config({SVG: {font: \"STIX-Web\"}});}</script>\n",
              "                <script type=\"text/javascript\">window.PlotlyConfig = {MathJaxConfig: 'local'};</script>\n",
              "        <script src=\"https://cdn.plot.ly/plotly-latest.min.js\"></script>    \n",
              "            <div id=\"3c8e415a-bf11-4f65-8e1b-54a3770c06b1\" class=\"plotly-graph-div\" style=\"height:700px; width:1000px;\"></div>\n",
              "            <script type=\"text/javascript\">\n",
              "                \n",
              "                    window.PLOTLYENV=window.PLOTLYENV || {};\n",
              "                    \n",
              "                if (document.getElementById(\"3c8e415a-bf11-4f65-8e1b-54a3770c06b1\")) {\n",
              "                    Plotly.newPlot(\n",
              "                        '3c8e415a-bf11-4f65-8e1b-54a3770c06b1',\n",
              "                        [{\"alignmentgroup\": \"True\", \"hoverlabel\": {\"namelength\": 0}, \"hovertemplate\": \"Feature: %{x} <br> Importance: %{y}\", \"legendgroup\": \"color=Other Features\", \"marker\": {\"color\": \"#636efa\"}, \"name\": \"color=Other Features\", \"offsetgroup\": \"color=Other Features\", \"orientation\": \"h\", \"showlegend\": true, \"textposition\": \"auto\", \"type\": \"bar\", \"x\": [0.0003363036811785117, 0.0005907344621982606, 0.0007771713069083997, 0.0022853565132076115, 0.007274875558962232, 0.008979106248213574, 0.008986537220306156, 0.008991328766156161, 0.011621363037650172, 0.013132432109677291, 0.019415745582879215, 0.021489734871929296, 0.030977802042934755, 0.03227134972160665, 0.053778277751024235, 0.08779328366822003, 0.12450818226819878, 0.16693800404702783], \"xaxis\": \"x\", \"y\": [\"Callday\", \"Right_Loss_Level-L2\", \"TFID1\", \"PROVINCE_ABBR_BC\", \"Right_Loss_Level-L3\", \"Left_Loss_Level-L3\", \"LATITUDE\", \"LONGITUDE\", \"Salesyear\", \"CallFrequency\", \"Callmonth\", \"Gender_Male\", \"Left_Loss_Level-L4\", \"CALL_LIST_007\", \"Right_Loss_Level-L4\", \"Combined_Loss-L3\", \"TFID2\", \"Callyear\"], \"yaxis\": \"y\"}, {\"alignmentgroup\": \"True\", \"hoverlabel\": {\"namelength\": 0}, \"hovertemplate\": \"Feature: %{x} <br> Importance: %{y}\", \"legendgroup\": \"color=Most Important Feature\", \"marker\": {\"color\": \"#EF553B\"}, \"name\": \"color=Most Important Feature\", \"offsetgroup\": \"color=Most Important Feature\", \"orientation\": \"h\", \"showlegend\": true, \"textposition\": \"auto\", \"type\": \"bar\", \"x\": [0.39985241114172076], \"xaxis\": \"x\", \"y\": [\"Combined_Loss-L4\"], \"yaxis\": \"y\"}],\n",
              "                        {\"barmode\": \"relative\", \"height\": 700, \"legend\": {\"tracegroupgap\": 0, \"x\": 0.998, \"xanchor\": \"right\", \"y\": 0.002, \"yanchor\": \"bottom\"}, \"template\": {\"data\": {\"bar\": [{\"error_x\": {\"color\": \"#2a3f5f\"}, \"error_y\": {\"color\": \"#2a3f5f\"}, \"marker\": {\"line\": {\"color\": \"#E5ECF6\", \"width\": 0.5}}, \"type\": \"bar\"}], \"barpolar\": [{\"marker\": {\"line\": {\"color\": \"#E5ECF6\", \"width\": 0.5}}, \"type\": \"barpolar\"}], \"carpet\": [{\"aaxis\": {\"endlinecolor\": \"#2a3f5f\", \"gridcolor\": \"white\", \"linecolor\": \"white\", \"minorgridcolor\": \"white\", \"startlinecolor\": \"#2a3f5f\"}, \"baxis\": {\"endlinecolor\": \"#2a3f5f\", \"gridcolor\": \"white\", \"linecolor\": \"white\", \"minorgridcolor\": \"white\", \"startlinecolor\": \"#2a3f5f\"}, \"type\": \"carpet\"}], \"choropleth\": [{\"colorbar\": {\"outlinewidth\": 0, \"ticks\": \"\"}, \"type\": \"choropleth\"}], \"contour\": [{\"colorbar\": {\"outlinewidth\": 0, \"ticks\": \"\"}, \"colorscale\": [[0.0, \"#0d0887\"], [0.1111111111111111, \"#46039f\"], [0.2222222222222222, \"#7201a8\"], [0.3333333333333333, \"#9c179e\"], [0.4444444444444444, \"#bd3786\"], [0.5555555555555556, \"#d8576b\"], [0.6666666666666666, \"#ed7953\"], [0.7777777777777778, \"#fb9f3a\"], [0.8888888888888888, \"#fdca26\"], [1.0, \"#f0f921\"]], \"type\": \"contour\"}], \"contourcarpet\": [{\"colorbar\": {\"outlinewidth\": 0, \"ticks\": \"\"}, \"type\": \"contourcarpet\"}], \"heatmap\": [{\"colorbar\": {\"outlinewidth\": 0, \"ticks\": \"\"}, \"colorscale\": [[0.0, \"#0d0887\"], [0.1111111111111111, \"#46039f\"], [0.2222222222222222, \"#7201a8\"], [0.3333333333333333, \"#9c179e\"], [0.4444444444444444, \"#bd3786\"], [0.5555555555555556, \"#d8576b\"], [0.6666666666666666, \"#ed7953\"], [0.7777777777777778, \"#fb9f3a\"], [0.8888888888888888, \"#fdca26\"], [1.0, \"#f0f921\"]], \"type\": \"heatmap\"}], \"heatmapgl\": [{\"colorbar\": {\"outlinewidth\": 0, \"ticks\": \"\"}, \"colorscale\": [[0.0, \"#0d0887\"], [0.1111111111111111, \"#46039f\"], [0.2222222222222222, \"#7201a8\"], [0.3333333333333333, \"#9c179e\"], [0.4444444444444444, \"#bd3786\"], [0.5555555555555556, \"#d8576b\"], [0.6666666666666666, \"#ed7953\"], [0.7777777777777778, \"#fb9f3a\"], [0.8888888888888888, \"#fdca26\"], [1.0, \"#f0f921\"]], \"type\": \"heatmapgl\"}], \"histogram\": [{\"marker\": {\"colorbar\": {\"outlinewidth\": 0, \"ticks\": \"\"}}, \"type\": \"histogram\"}], \"histogram2d\": [{\"colorbar\": {\"outlinewidth\": 0, \"ticks\": \"\"}, \"colorscale\": [[0.0, \"#0d0887\"], [0.1111111111111111, \"#46039f\"], [0.2222222222222222, \"#7201a8\"], [0.3333333333333333, \"#9c179e\"], [0.4444444444444444, \"#bd3786\"], [0.5555555555555556, \"#d8576b\"], [0.6666666666666666, \"#ed7953\"], [0.7777777777777778, \"#fb9f3a\"], [0.8888888888888888, \"#fdca26\"], [1.0, \"#f0f921\"]], \"type\": \"histogram2d\"}], \"histogram2dcontour\": [{\"colorbar\": {\"outlinewidth\": 0, \"ticks\": \"\"}, \"colorscale\": [[0.0, \"#0d0887\"], [0.1111111111111111, \"#46039f\"], [0.2222222222222222, \"#7201a8\"], [0.3333333333333333, \"#9c179e\"], [0.4444444444444444, \"#bd3786\"], [0.5555555555555556, \"#d8576b\"], [0.6666666666666666, \"#ed7953\"], [0.7777777777777778, \"#fb9f3a\"], [0.8888888888888888, \"#fdca26\"], [1.0, \"#f0f921\"]], \"type\": \"histogram2dcontour\"}], \"mesh3d\": [{\"colorbar\": {\"outlinewidth\": 0, \"ticks\": \"\"}, \"type\": \"mesh3d\"}], \"parcoords\": [{\"line\": {\"colorbar\": {\"outlinewidth\": 0, \"ticks\": \"\"}}, \"type\": \"parcoords\"}], \"pie\": [{\"automargin\": true, \"type\": \"pie\"}], \"scatter\": [{\"marker\": {\"colorbar\": {\"outlinewidth\": 0, \"ticks\": \"\"}}, \"type\": \"scatter\"}], \"scatter3d\": [{\"line\": {\"colorbar\": {\"outlinewidth\": 0, \"ticks\": \"\"}}, \"marker\": {\"colorbar\": {\"outlinewidth\": 0, \"ticks\": \"\"}}, \"type\": \"scatter3d\"}], \"scattercarpet\": [{\"marker\": {\"colorbar\": {\"outlinewidth\": 0, \"ticks\": \"\"}}, \"type\": \"scattercarpet\"}], \"scattergeo\": [{\"marker\": {\"colorbar\": {\"outlinewidth\": 0, \"ticks\": \"\"}}, \"type\": \"scattergeo\"}], \"scattergl\": [{\"marker\": {\"colorbar\": {\"outlinewidth\": 0, \"ticks\": \"\"}}, \"type\": \"scattergl\"}], \"scattermapbox\": [{\"marker\": {\"colorbar\": {\"outlinewidth\": 0, \"ticks\": \"\"}}, \"type\": \"scattermapbox\"}], \"scatterpolar\": [{\"marker\": {\"colorbar\": {\"outlinewidth\": 0, \"ticks\": \"\"}}, \"type\": \"scatterpolar\"}], \"scatterpolargl\": [{\"marker\": {\"colorbar\": {\"outlinewidth\": 0, \"ticks\": \"\"}}, \"type\": \"scatterpolargl\"}], \"scatterternary\": [{\"marker\": {\"colorbar\": {\"outlinewidth\": 0, \"ticks\": \"\"}}, \"type\": \"scatterternary\"}], \"surface\": [{\"colorbar\": {\"outlinewidth\": 0, \"ticks\": \"\"}, \"colorscale\": [[0.0, \"#0d0887\"], [0.1111111111111111, \"#46039f\"], [0.2222222222222222, \"#7201a8\"], [0.3333333333333333, \"#9c179e\"], [0.4444444444444444, \"#bd3786\"], [0.5555555555555556, \"#d8576b\"], [0.6666666666666666, \"#ed7953\"], [0.7777777777777778, \"#fb9f3a\"], [0.8888888888888888, \"#fdca26\"], [1.0, \"#f0f921\"]], \"type\": \"surface\"}], \"table\": [{\"cells\": {\"fill\": {\"color\": \"#EBF0F8\"}, \"line\": {\"color\": \"white\"}}, \"header\": {\"fill\": {\"color\": \"#C8D4E3\"}, \"line\": {\"color\": \"white\"}}, \"type\": \"table\"}]}, \"layout\": {\"annotationdefaults\": {\"arrowcolor\": \"#2a3f5f\", \"arrowhead\": 0, \"arrowwidth\": 1}, \"coloraxis\": {\"colorbar\": {\"outlinewidth\": 0, \"ticks\": \"\"}}, \"colorscale\": {\"diverging\": [[0, \"#8e0152\"], [0.1, \"#c51b7d\"], [0.2, \"#de77ae\"], [0.3, \"#f1b6da\"], [0.4, \"#fde0ef\"], [0.5, \"#f7f7f7\"], [0.6, \"#e6f5d0\"], [0.7, \"#b8e186\"], [0.8, \"#7fbc41\"], [0.9, \"#4d9221\"], [1, \"#276419\"]], \"sequential\": [[0.0, \"#0d0887\"], [0.1111111111111111, \"#46039f\"], [0.2222222222222222, \"#7201a8\"], [0.3333333333333333, \"#9c179e\"], [0.4444444444444444, \"#bd3786\"], [0.5555555555555556, \"#d8576b\"], [0.6666666666666666, \"#ed7953\"], [0.7777777777777778, \"#fb9f3a\"], [0.8888888888888888, \"#fdca26\"], [1.0, \"#f0f921\"]], \"sequentialminus\": [[0.0, \"#0d0887\"], [0.1111111111111111, \"#46039f\"], [0.2222222222222222, \"#7201a8\"], [0.3333333333333333, \"#9c179e\"], [0.4444444444444444, \"#bd3786\"], [0.5555555555555556, \"#d8576b\"], [0.6666666666666666, \"#ed7953\"], [0.7777777777777778, \"#fb9f3a\"], [0.8888888888888888, \"#fdca26\"], [1.0, \"#f0f921\"]]}, \"colorway\": [\"#636efa\", \"#EF553B\", \"#00cc96\", \"#ab63fa\", \"#FFA15A\", \"#19d3f3\", \"#FF6692\", \"#B6E880\", \"#FF97FF\", \"#FECB52\"], \"font\": {\"color\": \"#2a3f5f\"}, \"geo\": {\"bgcolor\": \"white\", \"lakecolor\": \"white\", \"landcolor\": \"#E5ECF6\", \"showlakes\": true, \"showland\": true, \"subunitcolor\": \"white\"}, \"hoverlabel\": {\"align\": \"left\"}, \"hovermode\": \"closest\", \"mapbox\": {\"style\": \"light\"}, \"paper_bgcolor\": \"white\", \"plot_bgcolor\": \"#E5ECF6\", \"polar\": {\"angularaxis\": {\"gridcolor\": \"white\", \"linecolor\": \"white\", \"ticks\": \"\"}, \"bgcolor\": \"#E5ECF6\", \"radialaxis\": {\"gridcolor\": \"white\", \"linecolor\": \"white\", \"ticks\": \"\"}}, \"scene\": {\"xaxis\": {\"backgroundcolor\": \"#E5ECF6\", \"gridcolor\": \"white\", \"gridwidth\": 2, \"linecolor\": \"white\", \"showbackground\": true, \"ticks\": \"\", \"zerolinecolor\": \"white\"}, \"yaxis\": {\"backgroundcolor\": \"#E5ECF6\", \"gridcolor\": \"white\", \"gridwidth\": 2, \"linecolor\": \"white\", \"showbackground\": true, \"ticks\": \"\", \"zerolinecolor\": \"white\"}, \"zaxis\": {\"backgroundcolor\": \"#E5ECF6\", \"gridcolor\": \"white\", \"gridwidth\": 2, \"linecolor\": \"white\", \"showbackground\": true, \"ticks\": \"\", \"zerolinecolor\": \"white\"}}, \"shapedefaults\": {\"line\": {\"color\": \"#2a3f5f\"}}, \"ternary\": {\"aaxis\": {\"gridcolor\": \"white\", \"linecolor\": \"white\", \"ticks\": \"\"}, \"baxis\": {\"gridcolor\": \"white\", \"linecolor\": \"white\", \"ticks\": \"\"}, \"bgcolor\": \"#E5ECF6\", \"caxis\": {\"gridcolor\": \"white\", \"linecolor\": \"white\", \"ticks\": \"\"}}, \"title\": {\"x\": 0.05}, \"xaxis\": {\"automargin\": true, \"gridcolor\": \"white\", \"linecolor\": \"white\", \"ticks\": \"\", \"title\": {\"standoff\": 15}, \"zerolinecolor\": \"white\", \"zerolinewidth\": 2}, \"yaxis\": {\"automargin\": true, \"gridcolor\": \"white\", \"linecolor\": \"white\", \"ticks\": \"\", \"title\": {\"standoff\": 15}, \"zerolinecolor\": \"white\", \"zerolinewidth\": 2}}}, \"title\": {\"text\": \"Feature Importance - Extra Trees\"}, \"width\": 1000, \"xaxis\": {\"anchor\": \"y\", \"domain\": [0.0, 1.0], \"title\": {\"text\": \"importance\"}}, \"yaxis\": {\"anchor\": \"x\", \"domain\": [0.0, 1.0], \"dtick\": 1, \"tickformat\": \".0f\", \"title\": {\"text\": \"feature\"}}},\n",
              "                        {\"responsive\": true}\n",
              "                    ).then(function(){\n",
              "                            \n",
              "var gd = document.getElementById('3c8e415a-bf11-4f65-8e1b-54a3770c06b1');\n",
              "var x = new MutationObserver(function (mutations, observer) {{\n",
              "        var display = window.getComputedStyle(gd).display;\n",
              "        if (!display || display === 'none') {{\n",
              "            console.log([gd, 'removed!']);\n",
              "            Plotly.purge(gd);\n",
              "            observer.disconnect();\n",
              "        }}\n",
              "}});\n",
              "\n",
              "// Listen for the removal of the full notebook cells\n",
              "var notebookContainer = gd.closest('#notebook-container');\n",
              "if (notebookContainer) {{\n",
              "    x.observe(notebookContainer, {childList: true});\n",
              "}}\n",
              "\n",
              "// Listen for the clearing of the current output cell\n",
              "var outputEl = gd.closest('.output');\n",
              "if (outputEl) {{\n",
              "    x.observe(outputEl, {childList: true});\n",
              "}}\n",
              "\n",
              "                        })\n",
              "                };\n",
              "                \n",
              "            </script>\n",
              "        </div>\n",
              "</body>\n",
              "</html>"
            ]
          },
          "metadata": {}
        }
      ]
    },
    {
      "cell_type": "markdown",
      "metadata": {
        "id": "C78khjimJZAL"
      },
      "source": [
        "## **Model Interpretations and Evaluation : Logistic Regression**"
      ]
    },
    {
      "cell_type": "markdown",
      "metadata": {
        "id": "UJihWlZuJgGK"
      },
      "source": [
        "### **ROC AUC : Logistic Regression Evaluation (on Method = Predict Proba)**"
      ]
    },
    {
      "cell_type": "code",
      "metadata": {
        "colab": {
          "base_uri": "https://localhost:8080/"
        },
        "id": "q-t4ksY3Jb_C",
        "outputId": "821c7d9a-752f-422d-adc4-486c02221962"
      },
      "source": [
        "y_LR_Prediction = Logistic_best_estimators_.predict_proba(X_train)\n",
        "y_LR_Scores = y_LR_Prediction[:, 1] # score = proba of positive class\n",
        "print(roc_auc_score(y_train, y_LR_Scores))"
      ],
      "execution_count": 218,
      "outputs": [
        {
          "output_type": "stream",
          "text": [
            "0.8159859849312624\n"
          ],
          "name": "stdout"
        }
      ]
    },
    {
      "cell_type": "code",
      "metadata": {
        "colab": {
          "base_uri": "https://localhost:8080/"
        },
        "id": "NSAgGSYBJ2a6",
        "outputId": "8a8484ec-73a3-44be-8416-727c12e55f97"
      },
      "source": [
        "y_LR_TPrediction = Logistic_best_estimators_.predict_proba(X_test)\n",
        "y_LR_TScores = y_LR_TPrediction[:, 1] # score = proba of positive class\n",
        "print(roc_auc_score(y_test, y_LR_TScores))"
      ],
      "execution_count": 219,
      "outputs": [
        {
          "output_type": "stream",
          "text": [
            "0.8162098482433391\n"
          ],
          "name": "stdout"
        }
      ]
    },
    {
      "cell_type": "markdown",
      "metadata": {
        "id": "7X28j46hKZcY"
      },
      "source": [
        "### **Confusion Matrix : Logistic Regression**"
      ]
    },
    {
      "cell_type": "code",
      "metadata": {
        "colab": {
          "base_uri": "https://localhost:8080/"
        },
        "id": "alMJYz6HKVCD",
        "outputId": "0cb0f620-8a7d-45bc-a284-de7818c16a14"
      },
      "source": [
        "### **Confusion Matrix : Logistic Regression - Training Set*\n",
        "predict_LRClassifier = cross_val_predict(Logistic_best_estimators_,X_train,y_train, cv=4)\n",
        "confusion_matrix(y_train, predict_LRClassifier)"
      ],
      "execution_count": 220,
      "outputs": [
        {
          "output_type": "execute_result",
          "data": {
            "text/plain": [
              "array([[206298,  53135],\n",
              "       [ 65952, 165352]])"
            ]
          },
          "metadata": {},
          "execution_count": 220
        }
      ]
    },
    {
      "cell_type": "code",
      "metadata": {
        "colab": {
          "base_uri": "https://localhost:8080/"
        },
        "id": "9f0xyTO8K71H",
        "outputId": "9fce2b20-f387-4a66-d977-a46c495026ee"
      },
      "source": [
        "predict_LR_TClassifier = cross_val_predict(Logistic_best_estimators_,X_test,y_test, cv=4)\n",
        "confusion_matrix(y_test, predict_LR_TClassifier)"
      ],
      "execution_count": 221,
      "outputs": [
        {
          "output_type": "execute_result",
          "data": {
            "text/plain": [
              "array([[51592, 13322],\n",
              "       [16512, 41259]])"
            ]
          },
          "metadata": {},
          "execution_count": 221
        }
      ]
    },
    {
      "cell_type": "markdown",
      "metadata": {
        "id": "zliNTWDFL2TH"
      },
      "source": [
        "### **Precision and Recall Score : Logistic Regression**"
      ]
    },
    {
      "cell_type": "code",
      "metadata": {
        "colab": {
          "base_uri": "https://localhost:8080/"
        },
        "id": "1A9uFxHZLoID",
        "outputId": "9211f10d-37de-408e-9cf0-1ba66f018381"
      },
      "source": [
        "### **Precision and Recall Score : Logistic Regression training set**\n",
        "from sklearn.metrics import precision_score, recall_score\n",
        "print(\"Precision Score for Training Set : {} \".format(precision_score(y_train,predict_LRClassifier)))\n",
        "print(\"Recall Score for Training Set : {}\".format(recall_score(y_train,predict_LRClassifier)))"
      ],
      "execution_count": 222,
      "outputs": [
        {
          "output_type": "stream",
          "text": [
            "Precision Score for Training Set : 0.7568047526855145 \n",
            "Recall Score for Training Set : 0.7148687441635251\n"
          ],
          "name": "stdout"
        }
      ]
    },
    {
      "cell_type": "code",
      "metadata": {
        "colab": {
          "base_uri": "https://localhost:8080/"
        },
        "id": "AH0zUbYwMC1b",
        "outputId": "01a1d2c2-b1b3-4b75-9a8d-49b58c62d299"
      },
      "source": [
        "### **Precision and Recall Score : Logistic Regression training set**\n",
        "from sklearn.metrics import precision_score, recall_score\n",
        "print(\"Precision Score for Training Set : {} \".format(precision_score(y_test,predict_LR_TClassifier)))\n",
        "print(\"Recall Score for Training Set : {}\".format(recall_score(y_test,predict_LR_TClassifier)))"
      ],
      "execution_count": 223,
      "outputs": [
        {
          "output_type": "stream",
          "text": [
            "Precision Score for Training Set : 0.755922390575475 \n",
            "Recall Score for Training Set : 0.7141818559484863\n"
          ],
          "name": "stdout"
        }
      ]
    },
    {
      "cell_type": "code",
      "metadata": {
        "colab": {
          "base_uri": "https://localhost:8080/",
          "height": 1000
        },
        "id": "mrlsUQddL_oA",
        "outputId": "521511c0-d728-4e78-feb9-5138fad6d188"
      },
      "source": [
        "feature_importance = abs(Logistic_best_estimators_.coef_[0])\n",
        "feature_importance = 100.0 * (feature_importance / feature_importance.max())\n",
        "sorted_idx = np.argsort(feature_importance)\n",
        "pos = np.arange(sorted_idx.shape[0]) + .5\n",
        "featfig = plt.figure()\n",
        "featax = featfig.add_subplot(1,1,1)\n",
        "featax.barh(pos, feature_importance[sorted_idx], align='center')\n",
        "featax.set_yticks(pos)\n",
        "featax.set_yticklabels(np.array(X_train.columns)[sorted_idx], fontsize=8)\n",
        "featax.set_xlabel('Relative Feature Importance')\n",
        "plt.rcParams[\"figure.figsize\"] = [16,29]\n",
        "plt.tight_layout()   \n",
        "plt.show()"
      ],
      "execution_count": 252,
      "outputs": [
        {
          "output_type": "display_data",
          "data": {
            "image/png": "[encoded data removed]",
            "text/plain": [
              "<Figure size 936x2088 with 1 Axes>"
            ]
          },
          "metadata": {
            "needs_background": "light"
          }
        }
      ]
    },
    {
      "cell_type": "markdown",
      "metadata": {
        "id": "rkJ_Q2o0T5zo"
      },
      "source": [
        "## **Model Comparison**"
      ]
    },
    {
      "cell_type": "markdown",
      "metadata": {
        "id": "dkS0cP3NZ4Da"
      },
      "source": [
        "### **ROC-AUC Curves**"
      ]
    },
    {
      "cell_type": "code",
      "metadata": {
        "colab": {
          "base_uri": "https://localhost:8080/",
          "height": 455
        },
        "id": "SnZCMEbiPr5f",
        "outputId": "c6512780-1ed9-4856-e487-48c62103bd64"
      },
      "source": [
        "from sklearn.metrics import roc_curve\n",
        "\n",
        "#for random forest\n",
        "fpr_rf, tpr_rf, thresholds_rf = roc_curve(y_train , y_RF_Scores)\n",
        "\n",
        "#For extra trees\n",
        "fpr_et, tpr_et, thresholds_et = roc_curve(y_test , y_ET_TScores)\n",
        "\n",
        "#for ADA Boost\n",
        "fpr_ada, tpr_ada, thresholds_ada = roc_curve(y_test, y_ADA_TScores)\n",
        "\n",
        "#logistic regression\n",
        "fpr_lr, tpr_lr, thresholds_lr = roc_curve(y_test, y_LR_TScores)\n",
        "\n",
        "def plot_roc_curve(fpr, tpr, label=None):\n",
        "    plt.plot(fpr, tpr, linewidth=2, label=label)\n",
        "    plt.plot([0, 1], [0, 1], 'k--')\n",
        "    plt.axis([0, 1, 0, 1])\n",
        "    plt.xlabel('False Positive Rate', fontsize=16)\n",
        "    plt.ylabel('True Positive Rate', fontsize=16)\n",
        "    \n",
        "#Plot the Roc Curve\n",
        "plot_roc_curve(fpr_rf, tpr_rf, \"Random Forest Classifier\")\n",
        "plt.plot(fpr_et, tpr_et, linewidth=2, label=\"Extra Trees Classifier\")\n",
        "plt.plot(fpr_ada, tpr_ada, linewidth=2, label=\"ADABoost Classifier\")\n",
        "plt.plot(fpr_lr, tpr_lr, linewidth=2, label=\"Logistic Regression\")\n",
        "plt.legend(loc=\"lower right\", fontsize=12)\n",
        "plt.rcParams[\"figure.figsize\"] = [11,7]\n",
        "plt.show()"
      ],
      "execution_count": 268,
      "outputs": [
        {
          "output_type": "display_data",
          "data": {
            "image/png": "[encoded data removed]",
            "text/plain": [
              "<Figure size 936x504 with 1 Axes>"
            ]
          },
          "metadata": {
            "needs_background": "light"
          }
        }
      ]
    },
    {
      "cell_type": "markdown",
      "metadata": {
        "id": "xw7NWvONZH33"
      },
      "source": [
        "**Using SKlearn Models metrics : ROC-AUC Score and Recall Score, Logistic Regression model is the Best Model.**"
      ]
    }
  ]
}